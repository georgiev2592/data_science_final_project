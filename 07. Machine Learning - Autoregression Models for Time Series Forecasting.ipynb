{
 "cells": [
  {
   "cell_type": "markdown",
   "metadata": {
    "collapsed": true
   },
   "source": [
    "# Machine Learning - Autoregression Models for Time Series Forecasting\n",
    "\n",
    "In this notebook, we are going to explore a couple of diffrent machine learning models to predict time-series data.\n",
    "\n",
    "Here is a link to all articles/tutorials:\n",
    " - [Time Series Archive](http://machinelearningmastery.com/category/time-series/)\n",
    " \n",
    "Here are links to specific articles:\n",
    " - [How to Make Out-of-Sample Forecasts with ARIMA in Python](http://machinelearningmastery.com/make-sample-forecasts-arima-python/)\n",
    " - [Sensitivity Analysis of History Size to Forecast Skill with ARIMA in Python](http://machinelearningmastery.com/sensitivity-analysis-history-size-forecast-skill-arima-python/)\n",
    " - [Feature Selection for Time Series Forecasting with Python](http://machinelearningmastery.com/feature-selection-time-series-forecasting-python/)\n",
    " - [Simple Time Series Forecasting Models to Test So That You Don’t Fool Yourself](http://machinelearningmastery.com/simple-time-series-forecasting-models/)\n",
    " - [Autoregression Models for Time Series Forecasting With Python](http://machinelearningmastery.com/autoregression-models-time-series-forecasting-python/)"
   ]
  },
  {
   "cell_type": "markdown",
   "metadata": {},
   "source": [
    "## Autoregression Models for Time Series Forecasting"
   ]
  },
  {
   "cell_type": "markdown",
   "metadata": {},
   "source": [
    "Autoregression is a time series model that uses observations from previous time steps as input to a regression equation to predict the value at the next time step.\n",
    "\n",
    "We will be modeling an output variable based on a linear combination of input variables. Predictions for future values in a sequence are generated based on a certain window of previous values. This window shifts forward to make predictions further and further into the future."
   ]
  },
  {
   "cell_type": "code",
   "execution_count": 1,
   "metadata": {
    "collapsed": false
   },
   "outputs": [
    {
     "data": {
      "text/html": [
       "<script>requirejs.config({paths: { 'plotly': ['https://cdn.plot.ly/plotly-latest.min']},});if(!window.Plotly) {{require(['plotly'],function(plotly) {window.Plotly=plotly;});}}</script>"
      ],
      "text/vnd.plotly.v1+html": [
       "<script>requirejs.config({paths: { 'plotly': ['https://cdn.plot.ly/plotly-latest.min']},});if(!window.Plotly) {{require(['plotly'],function(plotly) {window.Plotly=plotly;});}}</script>"
      ]
     },
     "metadata": {},
     "output_type": "display_data"
    }
   ],
   "source": [
    "import pandas as pd\n",
    "import numpy as np\n",
    "\n",
    "from pandas.tools.plotting import lag_plot\n",
    "from pandas.tools.plotting import autocorrelation_plot\n",
    "from statsmodels.graphics.tsaplots import plot_acf\n",
    "\n",
    "from sklearn.metrics import mean_squared_error\n",
    "from statsmodels.tsa.ar_model import AR\n",
    "\n",
    "import matplotlib.pyplot as plt\n",
    "%matplotlib inline\n",
    "\n",
    "import plotly.offline as py\n",
    "py.init_notebook_mode(connected=True)\n",
    "\n",
    "from plotly.graph_objs import *"
   ]
  },
  {
   "cell_type": "code",
   "execution_count": 2,
   "metadata": {
    "collapsed": false
   },
   "outputs": [
    {
     "data": {
      "text/html": [
       "<div>\n",
       "<table border=\"1\" class=\"dataframe\">\n",
       "  <thead>\n",
       "    <tr style=\"text-align: right;\">\n",
       "      <th></th>\n",
       "      <th>dew_point_f_avg</th>\n",
       "      <th>dew_point_f_high</th>\n",
       "      <th>dew_point_f_low</th>\n",
       "      <th>events</th>\n",
       "      <th>humidity_%_avg</th>\n",
       "      <th>humidity_%_high</th>\n",
       "      <th>humidity_%_low</th>\n",
       "      <th>precip_in_sum</th>\n",
       "      <th>sea_level_press_in_avg</th>\n",
       "      <th>sea_level_press_in_high</th>\n",
       "      <th>sea_level_press_in_low</th>\n",
       "      <th>temp_f_avg</th>\n",
       "      <th>temp_f_high</th>\n",
       "      <th>temp_f_low</th>\n",
       "      <th>visibility_mi_avg</th>\n",
       "      <th>visibility_mi_high</th>\n",
       "      <th>visibility_mi_low</th>\n",
       "      <th>wind_gust_mph_high</th>\n",
       "      <th>wind_mph_avg</th>\n",
       "      <th>wind_mph_high</th>\n",
       "    </tr>\n",
       "    <tr>\n",
       "      <th>date</th>\n",
       "      <th></th>\n",
       "      <th></th>\n",
       "      <th></th>\n",
       "      <th></th>\n",
       "      <th></th>\n",
       "      <th></th>\n",
       "      <th></th>\n",
       "      <th></th>\n",
       "      <th></th>\n",
       "      <th></th>\n",
       "      <th></th>\n",
       "      <th></th>\n",
       "      <th></th>\n",
       "      <th></th>\n",
       "      <th></th>\n",
       "      <th></th>\n",
       "      <th></th>\n",
       "      <th></th>\n",
       "      <th></th>\n",
       "      <th></th>\n",
       "    </tr>\n",
       "  </thead>\n",
       "  <tbody>\n",
       "    <tr>\n",
       "      <th>2012-01-01</th>\n",
       "      <td>44.0</td>\n",
       "      <td>50.0</td>\n",
       "      <td>34.0</td>\n",
       "      <td>Fog</td>\n",
       "      <td>80.0</td>\n",
       "      <td>100.0</td>\n",
       "      <td>25.0</td>\n",
       "      <td>0.00</td>\n",
       "      <td>30.15</td>\n",
       "      <td>30.23</td>\n",
       "      <td>30.08</td>\n",
       "      <td>56.0</td>\n",
       "      <td>73.0</td>\n",
       "      <td>39.0</td>\n",
       "      <td>6.0</td>\n",
       "      <td>10.0</td>\n",
       "      <td>0.0</td>\n",
       "      <td>0.0</td>\n",
       "      <td>1.0</td>\n",
       "      <td>8.0</td>\n",
       "    </tr>\n",
       "    <tr>\n",
       "      <th>2012-01-02</th>\n",
       "      <td>47.0</td>\n",
       "      <td>52.0</td>\n",
       "      <td>43.0</td>\n",
       "      <td>Fog</td>\n",
       "      <td>93.0</td>\n",
       "      <td>100.0</td>\n",
       "      <td>63.0</td>\n",
       "      <td>0.00</td>\n",
       "      <td>30.23</td>\n",
       "      <td>30.30</td>\n",
       "      <td>30.19</td>\n",
       "      <td>52.0</td>\n",
       "      <td>63.0</td>\n",
       "      <td>42.0</td>\n",
       "      <td>4.0</td>\n",
       "      <td>10.0</td>\n",
       "      <td>0.0</td>\n",
       "      <td>0.0</td>\n",
       "      <td>3.0</td>\n",
       "      <td>14.0</td>\n",
       "    </tr>\n",
       "    <tr>\n",
       "      <th>2012-01-03</th>\n",
       "      <td>43.0</td>\n",
       "      <td>50.0</td>\n",
       "      <td>37.0</td>\n",
       "      <td>Fog</td>\n",
       "      <td>85.0</td>\n",
       "      <td>100.0</td>\n",
       "      <td>32.0</td>\n",
       "      <td>0.01</td>\n",
       "      <td>30.24</td>\n",
       "      <td>30.28</td>\n",
       "      <td>30.17</td>\n",
       "      <td>58.0</td>\n",
       "      <td>77.0</td>\n",
       "      <td>39.0</td>\n",
       "      <td>6.0</td>\n",
       "      <td>10.0</td>\n",
       "      <td>0.0</td>\n",
       "      <td>0.0</td>\n",
       "      <td>2.0</td>\n",
       "      <td>10.0</td>\n",
       "    </tr>\n",
       "    <tr>\n",
       "      <th>2012-01-04</th>\n",
       "      <td>42.0</td>\n",
       "      <td>47.0</td>\n",
       "      <td>37.0</td>\n",
       "      <td></td>\n",
       "      <td>69.0</td>\n",
       "      <td>96.0</td>\n",
       "      <td>33.0</td>\n",
       "      <td>0.00</td>\n",
       "      <td>30.24</td>\n",
       "      <td>30.30</td>\n",
       "      <td>30.20</td>\n",
       "      <td>56.0</td>\n",
       "      <td>73.0</td>\n",
       "      <td>39.0</td>\n",
       "      <td>10.0</td>\n",
       "      <td>10.0</td>\n",
       "      <td>8.0</td>\n",
       "      <td>0.0</td>\n",
       "      <td>1.0</td>\n",
       "      <td>9.0</td>\n",
       "    </tr>\n",
       "    <tr>\n",
       "      <th>2012-01-05</th>\n",
       "      <td>42.0</td>\n",
       "      <td>51.0</td>\n",
       "      <td>36.0</td>\n",
       "      <td></td>\n",
       "      <td>66.0</td>\n",
       "      <td>93.0</td>\n",
       "      <td>23.0</td>\n",
       "      <td>0.00</td>\n",
       "      <td>30.15</td>\n",
       "      <td>30.22</td>\n",
       "      <td>30.09</td>\n",
       "      <td>60.0</td>\n",
       "      <td>78.0</td>\n",
       "      <td>42.0</td>\n",
       "      <td>10.0</td>\n",
       "      <td>10.0</td>\n",
       "      <td>7.0</td>\n",
       "      <td>22.0</td>\n",
       "      <td>4.0</td>\n",
       "      <td>18.0</td>\n",
       "    </tr>\n",
       "  </tbody>\n",
       "</table>\n",
       "</div>"
      ],
      "text/plain": [
       "            dew_point_f_avg  dew_point_f_high  dew_point_f_low events  \\\n",
       "date                                                                    \n",
       "2012-01-01             44.0              50.0             34.0    Fog   \n",
       "2012-01-02             47.0              52.0             43.0    Fog   \n",
       "2012-01-03             43.0              50.0             37.0    Fog   \n",
       "2012-01-04             42.0              47.0             37.0          \n",
       "2012-01-05             42.0              51.0             36.0          \n",
       "\n",
       "            humidity_%_avg  humidity_%_high  humidity_%_low  precip_in_sum  \\\n",
       "date                                                                         \n",
       "2012-01-01            80.0            100.0            25.0           0.00   \n",
       "2012-01-02            93.0            100.0            63.0           0.00   \n",
       "2012-01-03            85.0            100.0            32.0           0.01   \n",
       "2012-01-04            69.0             96.0            33.0           0.00   \n",
       "2012-01-05            66.0             93.0            23.0           0.00   \n",
       "\n",
       "            sea_level_press_in_avg  sea_level_press_in_high  \\\n",
       "date                                                          \n",
       "2012-01-01                   30.15                    30.23   \n",
       "2012-01-02                   30.23                    30.30   \n",
       "2012-01-03                   30.24                    30.28   \n",
       "2012-01-04                   30.24                    30.30   \n",
       "2012-01-05                   30.15                    30.22   \n",
       "\n",
       "            sea_level_press_in_low  temp_f_avg  temp_f_high  temp_f_low  \\\n",
       "date                                                                      \n",
       "2012-01-01                   30.08        56.0         73.0        39.0   \n",
       "2012-01-02                   30.19        52.0         63.0        42.0   \n",
       "2012-01-03                   30.17        58.0         77.0        39.0   \n",
       "2012-01-04                   30.20        56.0         73.0        39.0   \n",
       "2012-01-05                   30.09        60.0         78.0        42.0   \n",
       "\n",
       "            visibility_mi_avg  visibility_mi_high  visibility_mi_low  \\\n",
       "date                                                                   \n",
       "2012-01-01                6.0                10.0                0.0   \n",
       "2012-01-02                4.0                10.0                0.0   \n",
       "2012-01-03                6.0                10.0                0.0   \n",
       "2012-01-04               10.0                10.0                8.0   \n",
       "2012-01-05               10.0                10.0                7.0   \n",
       "\n",
       "            wind_gust_mph_high  wind_mph_avg  wind_mph_high  \n",
       "date                                                         \n",
       "2012-01-01                 0.0           1.0            8.0  \n",
       "2012-01-02                 0.0           3.0           14.0  \n",
       "2012-01-03                 0.0           2.0           10.0  \n",
       "2012-01-04                 0.0           1.0            9.0  \n",
       "2012-01-05                22.0           4.0           18.0  "
      ]
     },
     "execution_count": 2,
     "metadata": {},
     "output_type": "execute_result"
    }
   ],
   "source": [
    "# load dataset\n",
    "data = pd.read_csv('data/slo_weather_history.csv', index_col=0)\n",
    "\n",
    "# display first few rows\n",
    "data.head()"
   ]
  },
  {
   "cell_type": "code",
   "execution_count": 3,
   "metadata": {
    "collapsed": true
   },
   "outputs": [],
   "source": [
    "def plot_helper(x, traces, trace_name, title):\n",
    "    data = []\n",
    "    \n",
    "    for i, trace in enumerate(traces):\n",
    "        # prepare data for plot\n",
    "        data.append(\n",
    "            Scatter(x=np.array(x),\n",
    "                    y=trace,\n",
    "                    name=trace_name[i])\n",
    "        )\n",
    "\n",
    "    layout = Layout({\n",
    "        'title': title\n",
    "        }\n",
    "    )\n",
    "    \n",
    "    # plot scores over persistence values\n",
    "    fig = Figure(data=data, layout=layout)\n",
    "    py.iplot(fig)"
   ]
  },
  {
   "cell_type": "markdown",
   "metadata": {},
   "source": [
    "### Quick Check for Autocorrelation"
   ]
  },
  {
   "cell_type": "markdown",
   "metadata": {},
   "source": [
    "An autoregression model assumes that recent values are relevant to predicting the next value in a sequence. If these input variables are indeed instrumental in determining the output variable, the variables are said to have high correlation. The graph below suggests a relationship is present."
   ]
  },
  {
   "cell_type": "code",
   "execution_count": 4,
   "metadata": {
    "collapsed": false
   },
   "outputs": [
    {
     "data": {
      "image/png": "[encoded data removed]",
      "text/plain": [
       "<matplotlib.figure.Figure at 0x7f669cfdf0b8>"
      ]
     },
     "metadata": {},
     "output_type": "display_data"
    }
   ],
   "source": [
    "plt.figure(num=None, figsize=(12, 6))\n",
    "lag_plot(data['temp_f_low'])\n",
    "plt.show()"
   ]
  },
  {
   "cell_type": "code",
   "execution_count": 5,
   "metadata": {
    "collapsed": false
   },
   "outputs": [
    {
     "data": {
      "text/html": [
       "<div>\n",
       "<table border=\"1\" class=\"dataframe\">\n",
       "  <thead>\n",
       "    <tr style=\"text-align: right;\">\n",
       "      <th></th>\n",
       "      <th>t-1</th>\n",
       "      <th>t+1</th>\n",
       "    </tr>\n",
       "  </thead>\n",
       "  <tbody>\n",
       "    <tr>\n",
       "      <th>t-1</th>\n",
       "      <td>1.00000</td>\n",
       "      <td>0.82757</td>\n",
       "    </tr>\n",
       "    <tr>\n",
       "      <th>t+1</th>\n",
       "      <td>0.82757</td>\n",
       "      <td>1.00000</td>\n",
       "    </tr>\n",
       "  </tbody>\n",
       "</table>\n",
       "</div>"
      ],
      "text/plain": [
       "         t-1      t+1\n",
       "t-1  1.00000  0.82757\n",
       "t+1  0.82757  1.00000"
      ]
     },
     "execution_count": 5,
     "metadata": {},
     "output_type": "execute_result"
    }
   ],
   "source": [
    "df = pd.concat([data['temp_f_low'].shift(1), data['temp_f_low']], axis=1)\n",
    "df.columns = ['t-1', 't+1']\n",
    "result = df.corr()\n",
    "\n",
    "result"
   ]
  },
  {
   "cell_type": "markdown",
   "metadata": {},
   "source": [
    "This chart generates the same conclusion, as the correlation coefficient suggests a strong positive linear relationship."
   ]
  },
  {
   "cell_type": "markdown",
   "metadata": {},
   "source": [
    "### Autocorrelation Plots"
   ]
  },
  {
   "cell_type": "markdown",
   "metadata": {},
   "source": [
    "Autocorrelation plots show the correlation coefficients for each \"lag\" variable. The dashed lines represent 95% and 99% confidence intervals."
   ]
  },
  {
   "cell_type": "code",
   "execution_count": 6,
   "metadata": {
    "collapsed": false
   },
   "outputs": [
    {
     "data": {
      "image/png": "[encoded data removed]",
      "text/plain": [
       "<matplotlib.figure.Figure at 0x7f6684fb0320>"
      ]
     },
     "metadata": {},
     "output_type": "display_data"
    }
   ],
   "source": [
    "plt.figure(num=None, figsize=(12, 6))\n",
    "autocorrelation_plot(data['temp_f_low'])\n",
    "plt.show()"
   ]
  },
  {
   "cell_type": "markdown",
   "metadata": {},
   "source": [
    "It makes sense that the correlations would swing between positive and negative values, as the temperatures shift between seasons over the years."
   ]
  },
  {
   "cell_type": "code",
   "execution_count": 7,
   "metadata": {
    "collapsed": false
   },
   "outputs": [
    {
     "data": {
      "text/plain": [
       "<matplotlib.figure.Figure at 0x7f668449ef60>"
      ]
     },
     "metadata": {},
     "output_type": "display_data"
    },
    {
     "data": {
      "image/png": "[encoded data removed]",
      "text/plain": [
       "<matplotlib.figure.Figure at 0x7f668449e908>"
      ]
     },
     "metadata": {},
     "output_type": "display_data"
    }
   ],
   "source": [
    "plt.figure(num=None, figsize=(12, 6))\n",
    "plot_acf(data['temp_f_low'], lags=31)\n",
    "plt.show()"
   ]
  },
  {
   "cell_type": "markdown",
   "metadata": {},
   "source": [
    "### Autoregression Model\n",
    "#### Fixed AR Model"
   ]
  },
  {
   "cell_type": "markdown",
   "metadata": {},
   "source": [
    "The statsmodels library provides an autoregression model that automatically selects an approprite lag value and trains a linear regression model - this should generate a superior model to scikit-learn's linear regression model, which requires us to specify ahead of time which variables to include in the model."
   ]
  },
  {
   "cell_type": "code",
   "execution_count": 8,
   "metadata": {
    "collapsed": true
   },
   "outputs": [],
   "source": [
    "# split into train and test sets\n",
    "X = data['temp_f_low'].values\n",
    "\n",
    "train, test = X[1:len(X) - 7], X[len(X) - 7:]"
   ]
  },
  {
   "cell_type": "code",
   "execution_count": 9,
   "metadata": {
    "collapsed": false
   },
   "outputs": [
    {
     "name": "stdout",
     "output_type": "stream",
     "text": [
      "Lag: 25\n",
      "Coefficients: [  2.69671001e+00   6.76260388e-01   7.17475952e-03   2.46886729e-02\n",
      "  -1.89633298e-02   6.44693196e-02  -1.87472358e-02   4.20731648e-02\n",
      "  -1.94057902e-02   1.54665375e-02  -7.12434013e-03   5.41438345e-02\n",
      "  -1.72214538e-03   2.41950035e-02  -5.74790528e-03   9.76887634e-03\n",
      "   3.89550538e-02  -4.89144057e-02   8.17533113e-02  -2.16668478e-02\n",
      "   4.01715793e-02  -7.68302470e-04  -1.66650635e-02   9.85006729e-03\n",
      "  -2.95204355e-02   4.65738731e-02]\n"
     ]
    }
   ],
   "source": [
    "# train autoregression\n",
    "model = AR(train)\n",
    "model_fit = model.fit()\n",
    "\n",
    "print('Lag: %s' % model_fit.k_ar)\n",
    "print('Coefficients: %s' % model_fit.params)"
   ]
  },
  {
   "cell_type": "code",
   "execution_count": 10,
   "metadata": {
    "collapsed": false
   },
   "outputs": [
    {
     "name": "stdout",
     "output_type": "stream",
     "text": [
      "Day 1 -- Forecast: 50.641760, Actual: 50.000000\n",
      "Day 2 -- Forecast: 51.111098, Actual: 52.000000\n",
      "Day 3 -- Forecast: 51.143308, Actual: 53.000000\n",
      "Day 4 -- Forecast: 51.286968, Actual: 51.000000\n",
      "Day 5 -- Forecast: 51.153076, Actual: 55.000000\n",
      "Day 6 -- Forecast: 51.454193, Actual: 48.000000\n",
      "Day 7 -- Forecast: 51.247733, Actual: 48.000000\n",
      "\n",
      "Test RMSE: 2.450\n"
     ]
    }
   ],
   "source": [
    "# make predictions\n",
    "predictions = model_fit.predict(start=len(train), end=len(train)+len(test)-1, dynamic=False)\n",
    "\n",
    "for i in range(len(predictions)):\n",
    "    print('Day %d -- Forecast: %f, Actual: %f' % (i + 1, predictions[i], test[i]))\n",
    "\n",
    "error = np.sqrt(mean_squared_error(test, predictions))\n",
    "print('\\nTest RMSE: %.3f' % error)"
   ]
  },
  {
   "cell_type": "code",
   "execution_count": 11,
   "metadata": {
    "collapsed": false
   },
   "outputs": [
    {
     "data": {
      "application/vnd.plotly.v1+json": {
       "data": [
        {
         "name": "Test",
         "type": "scatter",
         "x": [
          "2017-06-05",
          "2017-06-06",
          "2017-06-07",
          "2017-06-08",
          "2017-06-09",
          "2017-06-10",
          "2017-06-11"
         ],
         "y": [
          50,
          52,
          53,
          51,
          55,
          48,
          48
         ]
        },
        {
         "name": "Forecast",
         "type": "scatter",
         "x": [
          "2017-06-05",
          "2017-06-06",
          "2017-06-07",
          "2017-06-08",
          "2017-06-09",
          "2017-06-10",
          "2017-06-11"
         ],
         "y": [
          50.641759977612196,
          51.111098018045446,
          51.143308287755126,
          51.28696755344045,
          51.15307595038324,
          51.45419292789344,
          51.24773304119784
         ]
        }
       ],
       "layout": {
        "title": "Predictions From Fixed AR Model"
       }
      },
      "text/html": [
       "<div id=\"395733d1-cd50-485f-a1e9-06429eb6fc9d\" style=\"height: 525px; width: 100%;\" class=\"plotly-graph-div\"></div><script type=\"text/javascript\">require([\"plotly\"], function(Plotly) { window.PLOTLYENV=window.PLOTLYENV || {};window.PLOTLYENV.BASE_URL=\"https://plot.ly\";Plotly.newPlot(\"395733d1-cd50-485f-a1e9-06429eb6fc9d\", [{\"x\": [\"2017-06-05\", \"2017-06-06\", \"2017-06-07\", \"2017-06-08\", \"2017-06-09\", \"2017-06-10\", \"2017-06-11\"], \"type\": \"scatter\", \"y\": [50.0, 52.0, 53.0, 51.0, 55.0, 48.0, 48.0], \"name\": \"Test\"}, {\"x\": [\"2017-06-05\", \"2017-06-06\", \"2017-06-07\", \"2017-06-08\", \"2017-06-09\", \"2017-06-10\", \"2017-06-11\"], \"type\": \"scatter\", \"y\": [50.641759977612196, 51.111098018045446, 51.143308287755126, 51.28696755344045, 51.15307595038324, 51.45419292789344, 51.24773304119784], \"name\": \"Forecast\"}], {\"title\": \"Predictions From Fixed AR Model\"}, {\"showLink\": true, \"linkText\": \"Export to plot.ly\"})});</script>"
      ],
      "text/vnd.plotly.v1+html": [
       "<div id=\"395733d1-cd50-485f-a1e9-06429eb6fc9d\" style=\"height: 525px; width: 100%;\" class=\"plotly-graph-div\"></div><script type=\"text/javascript\">require([\"plotly\"], function(Plotly) { window.PLOTLYENV=window.PLOTLYENV || {};window.PLOTLYENV.BASE_URL=\"https://plot.ly\";Plotly.newPlot(\"395733d1-cd50-485f-a1e9-06429eb6fc9d\", [{\"x\": [\"2017-06-05\", \"2017-06-06\", \"2017-06-07\", \"2017-06-08\", \"2017-06-09\", \"2017-06-10\", \"2017-06-11\"], \"type\": \"scatter\", \"y\": [50.0, 52.0, 53.0, 51.0, 55.0, 48.0, 48.0], \"name\": \"Test\"}, {\"x\": [\"2017-06-05\", \"2017-06-06\", \"2017-06-07\", \"2017-06-08\", \"2017-06-09\", \"2017-06-10\", \"2017-06-11\"], \"type\": \"scatter\", \"y\": [50.641759977612196, 51.111098018045446, 51.143308287755126, 51.28696755344045, 51.15307595038324, 51.45419292789344, 51.24773304119784], \"name\": \"Forecast\"}], {\"title\": \"Predictions From Fixed AR Model\"}, {\"showLink\": true, \"linkText\": \"Export to plot.ly\"})});</script>"
      ]
     },
     "metadata": {},
     "output_type": "display_data"
    }
   ],
   "source": [
    "# plot results\n",
    "plot_helper(df[len(X) - 7:].index, [test, predictions], ['Test', 'Forecast'], 'Predictions From Fixed AR Model')"
   ]
  },
  {
   "cell_type": "markdown",
   "metadata": {},
   "source": [
    "#### Rolling AR Model"
   ]
  },
  {
   "cell_type": "code",
   "execution_count": 12,
   "metadata": {
    "collapsed": true
   },
   "outputs": [],
   "source": [
    "# train autoregression\n",
    "model = AR(train)\n",
    "model_fit = model.fit()\n",
    "window = model_fit.k_ar\n",
    "coef = model_fit.params"
   ]
  },
  {
   "cell_type": "code",
   "execution_count": 13,
   "metadata": {
    "collapsed": false
   },
   "outputs": [
    {
     "name": "stdout",
     "output_type": "stream",
     "text": [
      "Day 1 -- Forecast: 50.641760, Actual: 50.000000\n",
      "Day 2 -- Forecast: 50.677101, Actual: 52.000000\n",
      "Day 3 -- Forecast: 51.739833, Actual: 53.000000\n",
      "Day 4 -- Forecast: 52.533108, Actual: 51.000000\n",
      "Day 5 -- Forecast: 51.006448, Actual: 55.000000\n",
      "Day 6 -- Forecast: 54.041265, Actual: 48.000000\n",
      "Day 7 -- Forecast: 48.966444, Actual: 48.000000\n",
      "\n",
      "Test RMSE: 2.915\n"
     ]
    }
   ],
   "source": [
    "# walk forward over time steps in test\n",
    "history = train[len(train)-window:]\n",
    "history = [history[i] for i in range(len(history))]\n",
    "predictions = list()\n",
    "\n",
    "for t in range(len(test)):\n",
    "    length = len(history)\n",
    "    lag = [history[i] for i in range(length-window,length)]\n",
    "    yhat = coef[0]\n",
    "    for d in range(window):\n",
    "        yhat += coef[d+1] * lag[window-d-1]\n",
    "    obs = test[t]\n",
    "    predictions.append(yhat)\n",
    "    history.append(obs)\n",
    "    print('Day %d -- Forecast: %f, Actual: %f' % (t + 1, yhat, obs))\n",
    "\n",
    "error = np.sqrt(mean_squared_error(test, predictions))\n",
    "print('\\nTest RMSE: %.3f' % error)"
   ]
  },
  {
   "cell_type": "code",
   "execution_count": 14,
   "metadata": {
    "collapsed": false
   },
   "outputs": [
    {
     "data": {
      "application/vnd.plotly.v1+json": {
       "data": [
        {
         "name": "Test",
         "type": "scatter",
         "x": [
          "2017-06-05",
          "2017-06-06",
          "2017-06-07",
          "2017-06-08",
          "2017-06-09",
          "2017-06-10",
          "2017-06-11"
         ],
         "y": [
          50,
          52,
          53,
          51,
          55,
          48,
          48
         ]
        },
        {
         "name": "Forecast",
         "type": "scatter",
         "x": [
          "2017-06-05",
          "2017-06-06",
          "2017-06-07",
          "2017-06-08",
          "2017-06-09",
          "2017-06-10",
          "2017-06-11"
         ],
         "y": [
          50.6417599776122,
          50.67710116658293,
          51.73983301345545,
          52.533108066970115,
          51.00644819426925,
          54.041265238796015,
          48.96644417275131
         ]
        }
       ],
       "layout": {
        "title": "Predictions From Rolling AR Model"
       }
      },
      "text/html": [
       "<div id=\"12e3cf9d-0d73-46e4-a1b4-e6c01c58e484\" style=\"height: 525px; width: 100%;\" class=\"plotly-graph-div\"></div><script type=\"text/javascript\">require([\"plotly\"], function(Plotly) { window.PLOTLYENV=window.PLOTLYENV || {};window.PLOTLYENV.BASE_URL=\"https://plot.ly\";Plotly.newPlot(\"12e3cf9d-0d73-46e4-a1b4-e6c01c58e484\", [{\"x\": [\"2017-06-05\", \"2017-06-06\", \"2017-06-07\", \"2017-06-08\", \"2017-06-09\", \"2017-06-10\", \"2017-06-11\"], \"type\": \"scatter\", \"y\": [50.0, 52.0, 53.0, 51.0, 55.0, 48.0, 48.0], \"name\": \"Test\"}, {\"x\": [\"2017-06-05\", \"2017-06-06\", \"2017-06-07\", \"2017-06-08\", \"2017-06-09\", \"2017-06-10\", \"2017-06-11\"], \"type\": \"scatter\", \"y\": [50.6417599776122, 50.67710116658293, 51.73983301345545, 52.533108066970115, 51.00644819426925, 54.041265238796015, 48.96644417275131], \"name\": \"Forecast\"}], {\"title\": \"Predictions From Rolling AR Model\"}, {\"showLink\": true, \"linkText\": \"Export to plot.ly\"})});</script>"
      ],
      "text/vnd.plotly.v1+html": [
       "<div id=\"12e3cf9d-0d73-46e4-a1b4-e6c01c58e484\" style=\"height: 525px; width: 100%;\" class=\"plotly-graph-div\"></div><script type=\"text/javascript\">require([\"plotly\"], function(Plotly) { window.PLOTLYENV=window.PLOTLYENV || {};window.PLOTLYENV.BASE_URL=\"https://plot.ly\";Plotly.newPlot(\"12e3cf9d-0d73-46e4-a1b4-e6c01c58e484\", [{\"x\": [\"2017-06-05\", \"2017-06-06\", \"2017-06-07\", \"2017-06-08\", \"2017-06-09\", \"2017-06-10\", \"2017-06-11\"], \"type\": \"scatter\", \"y\": [50.0, 52.0, 53.0, 51.0, 55.0, 48.0, 48.0], \"name\": \"Test\"}, {\"x\": [\"2017-06-05\", \"2017-06-06\", \"2017-06-07\", \"2017-06-08\", \"2017-06-09\", \"2017-06-10\", \"2017-06-11\"], \"type\": \"scatter\", \"y\": [50.6417599776122, 50.67710116658293, 51.73983301345545, 52.533108066970115, 51.00644819426925, 54.041265238796015, 48.96644417275131], \"name\": \"Forecast\"}], {\"title\": \"Predictions From Rolling AR Model\"}, {\"showLink\": true, \"linkText\": \"Export to plot.ly\"})});</script>"
      ]
     },
     "metadata": {},
     "output_type": "display_data"
    }
   ],
   "source": [
    "# plot\n",
    "plot_helper(df[len(X) - 7:].index, [test, predictions], ['Test', 'Forecast'], 'Predictions From Rolling AR Model')"
   ]
  }
 ],
 "metadata": {
  "kernelspec": {
   "display_name": "Python 3",
   "language": "python",
   "name": "python3"
  },
  "language_info": {
   "codemirror_mode": {
    "name": "ipython",
    "version": 3
   },
   "file_extension": ".py",
   "mimetype": "text/x-python",
   "name": "python",
   "nbconvert_exporter": "python",
   "pygments_lexer": "ipython3",
   "version": "3.5.2"
  }
 },
 "nbformat": 4,
 "nbformat_minor": 2
}
