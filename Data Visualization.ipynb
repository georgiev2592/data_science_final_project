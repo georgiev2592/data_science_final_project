{
 "cells": [
  {
   "cell_type": "markdown",
   "metadata": {
    "collapsed": true
   },
   "source": [
    "# Data Visualization\n",
    "\n",
    "In this notebook, we are making a few graphs that will help us understand the data.\n",
    "\n",
    "This might be very useful for visualizing data for a specisic city:\n",
    " - [Time Series Graphs & Eleven Stunning Ways You Can Use Them](https://plotlyblog.tumblr.com/post/117105992082/time-series-graphs-eleven-stunning-ways-you-can)\n",
    " - [UPDATE PLOTLY CHARTS WITH CRON JOBS AND PYTHON](https://moderndata.plot.ly/update-plotly-charts-with-cron-jobs-and-python/)\n",
    " - [SF and Montréal weather using plotly and wunderground APIs](http://nbviewer.jupyter.org/gist/jackparmer/899f1a945b1bf5376a05)\n",
    " \n",
    "Here is a tutorial on how to visualize data for a specific city and how to make a weather map (e.g. for a specific state):\n",
    " - [Your own weather forecast in a Python notebook](https://developer.ibm.com/clouddataservices/2016/10/06/your-own-weather-forecast-in-a-python-notebook/)"
   ]
  },
  {
   "cell_type": "code",
   "execution_count": null,
   "metadata": {
    "collapsed": true
   },
   "outputs": [],
   "source": []
  }
 ],
 "metadata": {
  "kernelspec": {
   "display_name": "Python 3",
   "language": "python",
   "name": "python3"
  },
  "language_info": {
   "codemirror_mode": {
    "name": "ipython",
    "version": 3
   },
   "file_extension": ".py",
   "mimetype": "text/x-python",
   "name": "python",
   "nbconvert_exporter": "python",
   "pygments_lexer": "ipython3",
   "version": "3.5.2"
  }
 },
 "nbformat": 4,
 "nbformat_minor": 2
}
