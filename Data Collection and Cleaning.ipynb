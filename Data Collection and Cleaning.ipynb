{
 "cells": [
  {
   "cell_type": "markdown",
   "metadata": {},
   "source": [
    "# Data Collection and Cleanning\n",
    "\n",
    "In this notebook, we are scraping all the data we need for our project. "
   ]
  },
  {
   "cell_type": "code",
   "execution_count": 1,
   "metadata": {
    "collapsed": true
   },
   "outputs": [],
   "source": [
    "import requests, time, re\n",
    "import pandas as pd\n",
    "\n",
    "from bs4 import BeautifulSoup"
   ]
  },
  {
   "cell_type": "markdown",
   "metadata": {},
   "source": [
    "## Cleanin Up - Column Titles"
   ]
  },
  {
   "cell_type": "code",
   "execution_count": 2,
   "metadata": {
    "collapsed": true
   },
   "outputs": [],
   "source": [
    "def clean_title(title):\n",
    "    title = title.lower()\n",
    "    title = re.sub(\"[(.°)]\", \"\", title)\n",
    "    title = re.sub(\" \", \"_\", title)\n",
    "    \n",
    "    return title"
   ]
  },
  {
   "cell_type": "markdown",
   "metadata": {},
   "source": [
    "## Scraping the Data\n",
    "\n",
    "Scrape the data from the website month-by-month and store it in `DataFrame`."
   ]
  },
  {
   "cell_type": "code",
   "execution_count": 3,
   "metadata": {
    "collapsed": false
   },
   "outputs": [],
   "source": [
    "def get_data(url):  \n",
    "    colmuns = []\n",
    "    raw_data = {}\n",
    "    date = \"\"\n",
    "    \n",
    "    req = requests.get(url)\n",
    "    soup = BeautifulSoup(req.text, \"html.parser\")\n",
    "\n",
    "    # Go to the table containg the daily weather history & observations\n",
    "    for table in soup.find_all(\"table\", {\"id\": \"obsTable\"}):\n",
    "        \n",
    "        # Parse the head of the table\n",
    "        for thead in table.find_all(\"thead\"):\n",
    "            for tr in thead.find_all(\"tr\"):\n",
    "                # Get column title\n",
    "                for i, th in enumerate(tr.find_all(\"th\")):\n",
    "                    if i == 0:\n",
    "                        date = clean_title(th.text)\n",
    "                        colmuns.append(clean_title(\"Date\"))\n",
    "                    elif i in range(1, 7):\n",
    "                        colmuns.append(clean_title(th.text))\n",
    "                        colmuns.append(clean_title(th.text))\n",
    "                        if i == 6:\n",
    "                            colmuns.append(clean_title(\"Wind Gust (mph)\"))\n",
    "                        else:\n",
    "                            colmuns.append(clean_title(th.text))\n",
    "                    else:\n",
    "                        colmuns.append(clean_title(th.text))\n",
    "\n",
    "        # Parse the body of the table\n",
    "        for j, tbody in enumerate(table.find_all(\"tbody\")):\n",
    "            for tr in tbody.find_all(\"tr\"):\n",
    "                # Get column subtitle\n",
    "                if j == 0:\n",
    "                    for k, td in enumerate(tr.find_all(\"td\")):\n",
    "                        if k == 0:\n",
    "                            date += \"/\" + td.text.lower()\n",
    "                        elif k != len(tr.find_all(\"td\")) - 1:\n",
    "                            colmuns[k] += \"_\" + td.text.lower()\n",
    "                # Get data\n",
    "                else:\n",
    "                    for l, td in enumerate(tr.find_all(\"td\")):\n",
    "                        if colmuns[l] not in raw_data:\n",
    "                            raw_data[colmuns[l]] = []\n",
    "\n",
    "                        if l == 0:\n",
    "                            raw_data[colmuns[l]].append(\"%s/%s\" % (date, td.text))\n",
    "                        elif l != len(tr.find_all(\"td\")) - 1:    \n",
    "                            raw_data[colmuns[l]].append(float(td.text.replace(\"\\n\", \"\").replace(\"-\", \"0\")))\n",
    "                        else:\n",
    "                            raw_data[colmuns[l]].append(td.text.replace(\"\\n\", \"\").replace(\"\\t\", \"\"))\n",
    "    \n",
    "    return pd.DataFrame(raw_data)"
   ]
  },
  {
   "cell_type": "markdown",
   "metadata": {},
   "source": [
    "## Cleaning the Data\n",
    "\n",
    "Split the `date` column into separate `year`, `month` and `day` columns."
   ]
  },
  {
   "cell_type": "code",
   "execution_count": 4,
   "metadata": {
    "collapsed": false
   },
   "outputs": [],
   "source": [
    "def clean_data(df):\n",
    "    new_date = df['date'].apply(lambda x: pd.Series([i for i in x.split('/')]))    \n",
    "    new_date.rename(columns={0:'year',1:'month',2:'day'},inplace=True)\n",
    "    \n",
    "    df.drop('date', axis=1, inplace=True)\n",
    "    \n",
    "    return pd.concat([new_date, df], axis=1)"
   ]
  },
  {
   "cell_type": "markdown",
   "metadata": {},
   "source": [
    "Don't know if it will be a better idea to analyze the data in this notebook on an yearly bases and store the result in a notebook, or do this the next notebooks if/when we need it."
   ]
  },
  {
   "cell_type": "code",
   "execution_count": 5,
   "metadata": {
    "collapsed": false,
    "scrolled": true
   },
   "outputs": [],
   "source": [
    "for year in range(2013, 2018):\n",
    "    months = range(1, 6) if year == 2017 else range(1, 13)\n",
    "    \n",
    "    for month in months:\n",
    "        data = get_data(\"https://www.wunderground.com/history/airport/KSBP/%d/%d/1/MonthlyHistory.html?req_city=San Luis Obispo&req_state=CA&req_statename=California&reqdb.zip=93405&reqdb.magic=1&reqdb.wmo=99999&MR=1\" % (year, month))\n",
    "        data = clean_data(data)\n",
    "        \n",
    "        data.to_csv(\"data/%d_%d.csv\" % (year, month), index=False)\n",
    "        \n",
    "        time.sleep(0.1)\n",
    "    \n",
    "#     dfs = []\n",
    "#     for month in months:\n",
    "#         dfs.append(pd.read_csv(\"data/%d_%d.csv\" % (year, month)))\n",
    "        \n",
    "#     yearly_data = pd.concat(dfs)"
   ]
  },
  {
   "cell_type": "code",
   "execution_count": null,
   "metadata": {
    "collapsed": true
   },
   "outputs": [],
   "source": []
  }
 ],
 "metadata": {
  "kernelspec": {
   "display_name": "Python 3",
   "language": "python",
   "name": "python3"
  },
  "language_info": {
   "codemirror_mode": {
    "name": "ipython",
    "version": 3
   },
   "file_extension": ".py",
   "mimetype": "text/x-python",
   "name": "python",
   "nbconvert_exporter": "python",
   "pygments_lexer": "ipython3",
   "version": "3.5.2"
  }
 },
 "nbformat": 4,
 "nbformat_minor": 2
}
