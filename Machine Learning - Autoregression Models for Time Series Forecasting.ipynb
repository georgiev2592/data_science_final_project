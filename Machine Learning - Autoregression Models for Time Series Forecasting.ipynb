{
 "cells": [
  {
   "cell_type": "markdown",
   "metadata": {
    "collapsed": true
   },
   "source": [
    "# Machine Learning - Autoregression Models for Time Series Forecasting\n",
    "\n",
    "In this notebook, we are going to explore a couple of diffrent machine learning models to predict time-series data.\n",
    "\n",
    "Here is a link to all articles/tutorials:\n",
    " - [Time Series Archive](http://machinelearningmastery.com/category/time-series/)\n",
    " \n",
    "Here are links to specific articles:\n",
    " - [How to Make Out-of-Sample Forecasts with ARIMA in Python](http://machinelearningmastery.com/make-sample-forecasts-arima-python/)\n",
    " - [Sensitivity Analysis of History Size to Forecast Skill with ARIMA in Python](http://machinelearningmastery.com/sensitivity-analysis-history-size-forecast-skill-arima-python/)\n",
    " - [Feature Selection for Time Series Forecasting with Python](http://machinelearningmastery.com/feature-selection-time-series-forecasting-python/)\n",
    " - [Simple Time Series Forecasting Models to Test So That You Don’t Fool Yourself](http://machinelearningmastery.com/simple-time-series-forecasting-models/)\n",
    " - [Autoregression Models for Time Series Forecasting With Python](http://machinelearningmastery.com/autoregression-models-time-series-forecasting-python/)"
   ]
  },
  {
   "cell_type": "markdown",
   "metadata": {},
   "source": [
    "## Autoregression Models for Time Series Forecasting"
   ]
  },
  {
   "cell_type": "code",
   "execution_count": 24,
   "metadata": {
    "collapsed": true
   },
   "outputs": [],
   "source": [
    "import pandas as pd\n",
    "\n",
    "from pandas.tools.plotting import lag_plot\n",
    "from pandas.tools.plotting import autocorrelation_plot\n",
    "from statsmodels.graphics.tsaplots import plot_acf\n",
    "\n",
    "from sklearn.metrics import mean_squared_error\n",
    "from statsmodels.tsa.ar_model import AR\n",
    "\n",
    "import matplotlib.pyplot as plt\n",
    "%matplotlib inline"
   ]
  },
  {
   "cell_type": "code",
   "execution_count": 25,
   "metadata": {
    "collapsed": false
   },
   "outputs": [
    {
     "data": {
      "text/html": [
       "<div>\n",
       "<table border=\"1\" class=\"dataframe\">\n",
       "  <thead>\n",
       "    <tr style=\"text-align: right;\">\n",
       "      <th></th>\n",
       "      <th>dew_point_f_avg</th>\n",
       "      <th>dew_point_f_high</th>\n",
       "      <th>dew_point_f_low</th>\n",
       "      <th>events</th>\n",
       "      <th>humidity_%_avg</th>\n",
       "      <th>humidity_%_high</th>\n",
       "      <th>humidity_%_low</th>\n",
       "      <th>precip_in_sum</th>\n",
       "      <th>sea_level_press_in_avg</th>\n",
       "      <th>sea_level_press_in_high</th>\n",
       "      <th>sea_level_press_in_low</th>\n",
       "      <th>temp_f_avg</th>\n",
       "      <th>temp_f_high</th>\n",
       "      <th>temp_f_low</th>\n",
       "      <th>visibility_mi_avg</th>\n",
       "      <th>visibility_mi_high</th>\n",
       "      <th>visibility_mi_low</th>\n",
       "      <th>wind_gust_mph_high</th>\n",
       "      <th>wind_mph_avg</th>\n",
       "      <th>wind_mph_high</th>\n",
       "    </tr>\n",
       "    <tr>\n",
       "      <th>date</th>\n",
       "      <th></th>\n",
       "      <th></th>\n",
       "      <th></th>\n",
       "      <th></th>\n",
       "      <th></th>\n",
       "      <th></th>\n",
       "      <th></th>\n",
       "      <th></th>\n",
       "      <th></th>\n",
       "      <th></th>\n",
       "      <th></th>\n",
       "      <th></th>\n",
       "      <th></th>\n",
       "      <th></th>\n",
       "      <th></th>\n",
       "      <th></th>\n",
       "      <th></th>\n",
       "      <th></th>\n",
       "      <th></th>\n",
       "      <th></th>\n",
       "    </tr>\n",
       "  </thead>\n",
       "  <tbody>\n",
       "    <tr>\n",
       "      <th>2012-1-1</th>\n",
       "      <td>44.0</td>\n",
       "      <td>50.0</td>\n",
       "      <td>34.0</td>\n",
       "      <td>Fog</td>\n",
       "      <td>80.0</td>\n",
       "      <td>100.0</td>\n",
       "      <td>25.0</td>\n",
       "      <td>0.00</td>\n",
       "      <td>30.15</td>\n",
       "      <td>30.23</td>\n",
       "      <td>30.08</td>\n",
       "      <td>56.0</td>\n",
       "      <td>73.0</td>\n",
       "      <td>39.0</td>\n",
       "      <td>6.0</td>\n",
       "      <td>10.0</td>\n",
       "      <td>0.0</td>\n",
       "      <td>0.0</td>\n",
       "      <td>1.0</td>\n",
       "      <td>8.0</td>\n",
       "    </tr>\n",
       "    <tr>\n",
       "      <th>2012-1-2</th>\n",
       "      <td>47.0</td>\n",
       "      <td>52.0</td>\n",
       "      <td>43.0</td>\n",
       "      <td>Fog</td>\n",
       "      <td>93.0</td>\n",
       "      <td>100.0</td>\n",
       "      <td>63.0</td>\n",
       "      <td>0.00</td>\n",
       "      <td>30.23</td>\n",
       "      <td>30.30</td>\n",
       "      <td>30.19</td>\n",
       "      <td>52.0</td>\n",
       "      <td>63.0</td>\n",
       "      <td>42.0</td>\n",
       "      <td>4.0</td>\n",
       "      <td>10.0</td>\n",
       "      <td>0.0</td>\n",
       "      <td>0.0</td>\n",
       "      <td>3.0</td>\n",
       "      <td>14.0</td>\n",
       "    </tr>\n",
       "    <tr>\n",
       "      <th>2012-1-3</th>\n",
       "      <td>43.0</td>\n",
       "      <td>50.0</td>\n",
       "      <td>37.0</td>\n",
       "      <td>Fog</td>\n",
       "      <td>85.0</td>\n",
       "      <td>100.0</td>\n",
       "      <td>32.0</td>\n",
       "      <td>0.01</td>\n",
       "      <td>30.24</td>\n",
       "      <td>30.28</td>\n",
       "      <td>30.17</td>\n",
       "      <td>58.0</td>\n",
       "      <td>77.0</td>\n",
       "      <td>39.0</td>\n",
       "      <td>6.0</td>\n",
       "      <td>10.0</td>\n",
       "      <td>0.0</td>\n",
       "      <td>0.0</td>\n",
       "      <td>2.0</td>\n",
       "      <td>10.0</td>\n",
       "    </tr>\n",
       "    <tr>\n",
       "      <th>2012-1-4</th>\n",
       "      <td>42.0</td>\n",
       "      <td>47.0</td>\n",
       "      <td>37.0</td>\n",
       "      <td></td>\n",
       "      <td>69.0</td>\n",
       "      <td>96.0</td>\n",
       "      <td>33.0</td>\n",
       "      <td>0.00</td>\n",
       "      <td>30.24</td>\n",
       "      <td>30.30</td>\n",
       "      <td>30.20</td>\n",
       "      <td>56.0</td>\n",
       "      <td>73.0</td>\n",
       "      <td>39.0</td>\n",
       "      <td>10.0</td>\n",
       "      <td>10.0</td>\n",
       "      <td>8.0</td>\n",
       "      <td>0.0</td>\n",
       "      <td>1.0</td>\n",
       "      <td>9.0</td>\n",
       "    </tr>\n",
       "    <tr>\n",
       "      <th>2012-1-5</th>\n",
       "      <td>42.0</td>\n",
       "      <td>51.0</td>\n",
       "      <td>36.0</td>\n",
       "      <td></td>\n",
       "      <td>66.0</td>\n",
       "      <td>93.0</td>\n",
       "      <td>23.0</td>\n",
       "      <td>0.00</td>\n",
       "      <td>30.15</td>\n",
       "      <td>30.22</td>\n",
       "      <td>30.09</td>\n",
       "      <td>60.0</td>\n",
       "      <td>78.0</td>\n",
       "      <td>42.0</td>\n",
       "      <td>10.0</td>\n",
       "      <td>10.0</td>\n",
       "      <td>7.0</td>\n",
       "      <td>22.0</td>\n",
       "      <td>4.0</td>\n",
       "      <td>18.0</td>\n",
       "    </tr>\n",
       "  </tbody>\n",
       "</table>\n",
       "</div>"
      ],
      "text/plain": [
       "          dew_point_f_avg  dew_point_f_high  dew_point_f_low events  \\\n",
       "date                                                                  \n",
       "2012-1-1             44.0              50.0             34.0    Fog   \n",
       "2012-1-2             47.0              52.0             43.0    Fog   \n",
       "2012-1-3             43.0              50.0             37.0    Fog   \n",
       "2012-1-4             42.0              47.0             37.0          \n",
       "2012-1-5             42.0              51.0             36.0          \n",
       "\n",
       "          humidity_%_avg  humidity_%_high  humidity_%_low  precip_in_sum  \\\n",
       "date                                                                       \n",
       "2012-1-1            80.0            100.0            25.0           0.00   \n",
       "2012-1-2            93.0            100.0            63.0           0.00   \n",
       "2012-1-3            85.0            100.0            32.0           0.01   \n",
       "2012-1-4            69.0             96.0            33.0           0.00   \n",
       "2012-1-5            66.0             93.0            23.0           0.00   \n",
       "\n",
       "          sea_level_press_in_avg  sea_level_press_in_high  \\\n",
       "date                                                        \n",
       "2012-1-1                   30.15                    30.23   \n",
       "2012-1-2                   30.23                    30.30   \n",
       "2012-1-3                   30.24                    30.28   \n",
       "2012-1-4                   30.24                    30.30   \n",
       "2012-1-5                   30.15                    30.22   \n",
       "\n",
       "          sea_level_press_in_low  temp_f_avg  temp_f_high  temp_f_low  \\\n",
       "date                                                                    \n",
       "2012-1-1                   30.08        56.0         73.0        39.0   \n",
       "2012-1-2                   30.19        52.0         63.0        42.0   \n",
       "2012-1-3                   30.17        58.0         77.0        39.0   \n",
       "2012-1-4                   30.20        56.0         73.0        39.0   \n",
       "2012-1-5                   30.09        60.0         78.0        42.0   \n",
       "\n",
       "          visibility_mi_avg  visibility_mi_high  visibility_mi_low  \\\n",
       "date                                                                 \n",
       "2012-1-1                6.0                10.0                0.0   \n",
       "2012-1-2                4.0                10.0                0.0   \n",
       "2012-1-3                6.0                10.0                0.0   \n",
       "2012-1-4               10.0                10.0                8.0   \n",
       "2012-1-5               10.0                10.0                7.0   \n",
       "\n",
       "          wind_gust_mph_high  wind_mph_avg  wind_mph_high  \n",
       "date                                                       \n",
       "2012-1-1                 0.0           1.0            8.0  \n",
       "2012-1-2                 0.0           3.0           14.0  \n",
       "2012-1-3                 0.0           2.0           10.0  \n",
       "2012-1-4                 0.0           1.0            9.0  \n",
       "2012-1-5                22.0           4.0           18.0  "
      ]
     },
     "execution_count": 25,
     "metadata": {},
     "output_type": "execute_result"
    }
   ],
   "source": [
    "# load dataset\n",
    "data = pd.read_csv('data/slo_weather_history.csv', index_col=0)\n",
    "\n",
    "# display first few rows\n",
    "data.head()"
   ]
  },
  {
   "cell_type": "markdown",
   "metadata": {},
   "source": [
    "### Quick Check for Autocorrelation"
   ]
  },
  {
   "cell_type": "code",
   "execution_count": 26,
   "metadata": {
    "collapsed": false
   },
   "outputs": [
    {
     "data": {
      "image/png": "[encoded data removed]",
      "text/plain": [
       "<matplotlib.figure.Figure at 0x7ff171310e10>"
      ]
     },
     "metadata": {},
     "output_type": "display_data"
    }
   ],
   "source": [
    "lag_plot(data['temp_f_low'])\n",
    "plt.show()"
   ]
  },
  {
   "cell_type": "code",
   "execution_count": 27,
   "metadata": {
    "collapsed": false
   },
   "outputs": [
    {
     "data": {
      "text/html": [
       "<div>\n",
       "<table border=\"1\" class=\"dataframe\">\n",
       "  <thead>\n",
       "    <tr style=\"text-align: right;\">\n",
       "      <th></th>\n",
       "      <th>t-1</th>\n",
       "      <th>t+1</th>\n",
       "    </tr>\n",
       "  </thead>\n",
       "  <tbody>\n",
       "    <tr>\n",
       "      <th>t-1</th>\n",
       "      <td>1.000000</td>\n",
       "      <td>0.827876</td>\n",
       "    </tr>\n",
       "    <tr>\n",
       "      <th>t+1</th>\n",
       "      <td>0.827876</td>\n",
       "      <td>1.000000</td>\n",
       "    </tr>\n",
       "  </tbody>\n",
       "</table>\n",
       "</div>"
      ],
      "text/plain": [
       "          t-1       t+1\n",
       "t-1  1.000000  0.827876\n",
       "t+1  0.827876  1.000000"
      ]
     },
     "execution_count": 27,
     "metadata": {},
     "output_type": "execute_result"
    }
   ],
   "source": [
    "df = pd.concat([data['temp_f_low'].shift(1), data['temp_f_low']], axis=1)\n",
    "df.columns = ['t-1', 't+1']\n",
    "result = df.corr()\n",
    "\n",
    "result"
   ]
  },
  {
   "cell_type": "markdown",
   "metadata": {},
   "source": [
    "### Autocorrelation Plots"
   ]
  },
  {
   "cell_type": "code",
   "execution_count": 28,
   "metadata": {
    "collapsed": false
   },
   "outputs": [
    {
     "data": {
      "image/png": "[encoded data removed]",
      "text/plain": [
       "<matplotlib.figure.Figure at 0x7ff15c2cb0b8>"
      ]
     },
     "metadata": {},
     "output_type": "display_data"
    }
   ],
   "source": [
    "autocorrelation_plot(data['temp_f_low'])\n",
    "plt.show()"
   ]
  },
  {
   "cell_type": "code",
   "execution_count": 29,
   "metadata": {
    "collapsed": false
   },
   "outputs": [
    {
     "data": {
      "image/png": "[encoded data removed]",
      "text/plain": [
       "<matplotlib.figure.Figure at 0x7ff15c276080>"
      ]
     },
     "metadata": {},
     "output_type": "display_data"
    }
   ],
   "source": [
    "plot_acf(data['temp_f_low'], lags=31)\n",
    "plt.show()"
   ]
  },
  {
   "cell_type": "markdown",
   "metadata": {},
   "source": [
    "### Persistence Model"
   ]
  },
  {
   "cell_type": "code",
   "execution_count": 30,
   "metadata": {
    "collapsed": true
   },
   "outputs": [],
   "source": [
    "# split into train and test sets\n",
    "X = df.values\n",
    "\n",
    "train, test = X[1:len(X) - 7], X[len(X) - 7:]\n",
    "\n",
    "train_X, train_y = train[:, 0], train[:, 1]\n",
    "test_X, test_y = test[:, 0], test[:, 1]"
   ]
  },
  {
   "cell_type": "code",
   "execution_count": 31,
   "metadata": {
    "collapsed": true
   },
   "outputs": [],
   "source": [
    "# persistence model\n",
    "def model_persistence(x):\n",
    "    return x"
   ]
  },
  {
   "cell_type": "code",
   "execution_count": 34,
   "metadata": {
    "collapsed": false
   },
   "outputs": [
    {
     "name": "stdout",
     "output_type": "stream",
     "text": [
      "Test RMSE: 3.546\n"
     ]
    }
   ],
   "source": [
    "# walk-forward validation\n",
    "predictions = list()\n",
    "\n",
    "for x in test_X:\n",
    "    yhat = model_persistence(x)\n",
    "    predictions.append(yhat)\n",
    "\n",
    "test_score = np.sqrt(mean_squared_error(test_y, predictions))\n",
    "print('Test RMSE: %.3f' % test_score)"
   ]
  },
  {
   "cell_type": "code",
   "execution_count": 36,
   "metadata": {
    "collapsed": false
   },
   "outputs": [
    {
     "data": {
      "image/png": "[encoded data removed]",
      "text/plain": [
       "<matplotlib.figure.Figure at 0x7ff12a865860>"
      ]
     },
     "metadata": {},
     "output_type": "display_data"
    }
   ],
   "source": [
    "# plot predictions vs expected\n",
    "plt.plot(test_y)\n",
    "plt.plot(predictions)\n",
    "plt.title('Predictions From Persistence Model')\n",
    "plt.legend(['Expected', 'Predicted'])\n",
    "plt.show()"
   ]
  },
  {
   "cell_type": "markdown",
   "metadata": {},
   "source": [
    "### Autoregression Model\n",
    "#### Fixed AR Model"
   ]
  },
  {
   "cell_type": "code",
   "execution_count": 37,
   "metadata": {
    "collapsed": true
   },
   "outputs": [],
   "source": [
    "# split into train and test sets\n",
    "X = data['temp_f_low'].values\n",
    "\n",
    "train, test = X[1:len(X) - 7], X[len(X) - 7:]"
   ]
  },
  {
   "cell_type": "code",
   "execution_count": 38,
   "metadata": {
    "collapsed": false
   },
   "outputs": [
    {
     "name": "stdout",
     "output_type": "stream",
     "text": [
      "Lag: 25\n",
      "Coefficients: [  2.69113832e+00   6.76535679e-01   8.33505352e-03   2.34633082e-02\n",
      "  -1.92289500e-02   6.49388665e-02  -1.93464232e-02   4.35407817e-02\n",
      "  -2.07799429e-02   1.42483914e-02  -5.13330412e-03   5.51131468e-02\n",
      "  -3.91629730e-03   2.46577053e-02  -5.57516104e-03   9.05781894e-03\n",
      "   3.92788546e-02  -4.76940790e-02   8.01136510e-02  -2.04711469e-02\n",
      "   3.98518674e-02  -1.25816581e-03  -1.70186794e-02   8.41351825e-03\n",
      "  -2.88694521e-02   4.81265624e-02]\n"
     ]
    }
   ],
   "source": [
    "# train autoregression\n",
    "model = AR(train)\n",
    "model_fit = model.fit()\n",
    "\n",
    "print('Lag: %s' % model_fit.k_ar)\n",
    "print('Coefficients: %s' % model_fit.params)"
   ]
  },
  {
   "cell_type": "code",
   "execution_count": 40,
   "metadata": {
    "collapsed": false
   },
   "outputs": [
    {
     "name": "stdout",
     "output_type": "stream",
     "text": [
      "Day 1 -- Forecast: 52.116721, Actual: 57.000000\n",
      "Day 2 -- Forecast: 51.344425, Actual: 54.000000\n",
      "Day 3 -- Forecast: 51.397121, Actual: 48.000000\n",
      "Day 4 -- Forecast: 51.601338, Actual: 53.000000\n",
      "Day 5 -- Forecast: 51.568685, Actual: 53.000000\n",
      "Day 6 -- Forecast: 51.614797, Actual: 52.000000\n",
      "Day 7 -- Forecast: 51.461988, Actual: 51.000000\n",
      "\n",
      "Test RMSE: 2.586\n"
     ]
    }
   ],
   "source": [
    "# make predictions\n",
    "predictions = model_fit.predict(start=len(train), end=len(train)+len(test)-1, dynamic=False)\n",
    "\n",
    "for i in range(len(predictions)):\n",
    "    print('Day %d -- Forecast: %f, Actual: %f' % (i + 1, predictions[i], test[i]))\n",
    "\n",
    "error = np.sqrt(mean_squared_error(test, predictions))\n",
    "print('\\nTest RMSE: %.3f' % error)"
   ]
  },
  {
   "cell_type": "code",
   "execution_count": 41,
   "metadata": {
    "collapsed": false
   },
   "outputs": [
    {
     "data": {
      "image/png": "[encoded data removed]",
      "text/plain": [
       "<matplotlib.figure.Figure at 0x7ff12a844780>"
      ]
     },
     "metadata": {},
     "output_type": "display_data"
    }
   ],
   "source": [
    "# plot results\n",
    "plt.plot(test)\n",
    "plt.plot(predictions)\n",
    "plt.title('Predictions From Fixed AR Model')\n",
    "plt.legend(['Expected', 'Predicted'])\n",
    "plt.show()"
   ]
  },
  {
   "cell_type": "markdown",
   "metadata": {},
   "source": [
    "#### Rolling AR Model"
   ]
  },
  {
   "cell_type": "code",
   "execution_count": 42,
   "metadata": {
    "collapsed": true
   },
   "outputs": [],
   "source": [
    "# train autoregression\n",
    "model = AR(train)\n",
    "model_fit = model.fit()\n",
    "window = model_fit.k_ar\n",
    "coef = model_fit.params"
   ]
  },
  {
   "cell_type": "code",
   "execution_count": 44,
   "metadata": {
    "collapsed": false
   },
   "outputs": [
    {
     "name": "stdout",
     "output_type": "stream",
     "text": [
      "Day 1 -- Forecast: 52.116721, Actual: 57.000000\n",
      "Day 2 -- Forecast: 54.648137, Actual: 54.000000\n",
      "Day 3 -- Forecast: 53.234415, Actual: 48.000000\n",
      "Day 4 -- Forecast: 49.439777, Actual: 53.000000\n",
      "Day 5 -- Forecast: 52.455022, Actual: 53.000000\n",
      "Day 6 -- Forecast: 52.781134, Actual: 52.000000\n",
      "Day 7 -- Forecast: 51.910638, Actual: 51.000000\n",
      "\n",
      "Test RMSE: 3.072\n"
     ]
    }
   ],
   "source": [
    "# walk forward over time steps in test\n",
    "history = train[len(train)-window:]\n",
    "history = [history[i] for i in range(len(history))]\n",
    "predictions = list()\n",
    "\n",
    "for t in range(len(test)):\n",
    "    length = len(history)\n",
    "    lag = [history[i] for i in range(length-window,length)]\n",
    "    yhat = coef[0]\n",
    "    for d in range(window):\n",
    "        yhat += coef[d+1] * lag[window-d-1]\n",
    "    obs = test[t]\n",
    "    predictions.append(yhat)\n",
    "    history.append(obs)\n",
    "    print('Day %d -- Forecast: %f, Actual: %f' % (t + 1, yhat, obs))\n",
    "\n",
    "error = np.sqrt(mean_squared_error(test, predictions))\n",
    "print('\\nTest RMSE: %.3f' % error)"
   ]
  },
  {
   "cell_type": "code",
   "execution_count": 45,
   "metadata": {
    "collapsed": false
   },
   "outputs": [
    {
     "data": {
      "image/png": "[encoded data removed]",
      "text/plain": [
       "<matplotlib.figure.Figure at 0x7ff12a997780>"
      ]
     },
     "metadata": {},
     "output_type": "display_data"
    }
   ],
   "source": [
    "# plot\n",
    "plt.plot(test)\n",
    "plt.plot(predictions)\n",
    "plt.title('Predictions From Rolling AR Model')\n",
    "plt.legend(['Expected', 'Predicted'])\n",
    "plt.show()"
   ]
  },
  {
   "cell_type": "code",
   "execution_count": null,
   "metadata": {
    "collapsed": true
   },
   "outputs": [],
   "source": []
  }
 ],
 "metadata": {
  "kernelspec": {
   "display_name": "Python 3",
   "language": "python",
   "name": "python3"
  },
  "language_info": {
   "codemirror_mode": {
    "name": "ipython",
    "version": 3
   },
   "file_extension": ".py",
   "mimetype": "text/x-python",
   "name": "python",
   "nbconvert_exporter": "python",
   "pygments_lexer": "ipython3",
   "version": "3.5.2"
  }
 },
 "nbformat": 4,
 "nbformat_minor": 2
}
