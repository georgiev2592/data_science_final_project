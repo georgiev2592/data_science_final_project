{
 "cells": [
  {
   "cell_type": "markdown",
   "metadata": {
    "collapsed": true
   },
   "source": [
    "# Machine Learning - Configure ARIMA \n",
    "\n",
    "In this notebook, we are going to explore a couple of diffrent machine learning models to predict time-series data.\n",
    "\n",
    "Here is a link to all articles/tutorials:\n",
    " - [Time Series Archive](http://machinelearningmastery.com/category/time-series/)\n",
    " \n",
    "Here are links to specific articles:\n",
    " - [How to Make Out-of-Sample Forecasts with ARIMA in Python](http://machinelearningmastery.com/make-sample-forecasts-arima-python/)\n",
    " - [Sensitivity Analysis of History Size to Forecast Skill with ARIMA in Python](http://machinelearningmastery.com/sensitivity-analysis-history-size-forecast-skill-arima-python/)\n",
    " - [Feature Selection for Time Series Forecasting with Python](http://machinelearningmastery.com/feature-selection-time-series-forecasting-python/)\n",
    " - [Simple Time Series Forecasting Models to Test So That You Don’t Fool Yourself](http://machinelearningmastery.com/simple-time-series-forecasting-models/)\n",
    " - [Autoregression Models for Time Series Forecasting With Python](http://machinelearningmastery.com/autoregression-models-time-series-forecasting-python/)"
   ]
  },
  {
   "cell_type": "markdown",
   "metadata": {},
   "source": [
    "## Configure ARIMA\n",
    "\n",
    "### Dataset Description"
   ]
  },
  {
   "cell_type": "code",
   "execution_count": 13,
   "metadata": {
    "collapsed": false
   },
   "outputs": [],
   "source": [
    "import pandas as pd\n",
    "import numpy as np\n",
    "\n",
    "import warnings\n",
    "\n",
    "from sklearn.metrics import mean_squared_error\n",
    "from statsmodels.tsa.arima_model import ARIMA\n",
    "\n",
    "import matplotlib.pyplot as plt\n",
    "%matplotlib inline"
   ]
  },
  {
   "cell_type": "code",
   "execution_count": 14,
   "metadata": {
    "collapsed": false
   },
   "outputs": [
    {
     "data": {
      "text/html": [
       "<div>\n",
       "<table border=\"1\" class=\"dataframe\">\n",
       "  <thead>\n",
       "    <tr style=\"text-align: right;\">\n",
       "      <th></th>\n",
       "      <th>dew_point_f_avg</th>\n",
       "      <th>dew_point_f_high</th>\n",
       "      <th>dew_point_f_low</th>\n",
       "      <th>events</th>\n",
       "      <th>humidity_%_avg</th>\n",
       "      <th>humidity_%_high</th>\n",
       "      <th>humidity_%_low</th>\n",
       "      <th>precip_in_sum</th>\n",
       "      <th>sea_level_press_in_avg</th>\n",
       "      <th>sea_level_press_in_high</th>\n",
       "      <th>sea_level_press_in_low</th>\n",
       "      <th>temp_f_avg</th>\n",
       "      <th>temp_f_high</th>\n",
       "      <th>temp_f_low</th>\n",
       "      <th>visibility_mi_avg</th>\n",
       "      <th>visibility_mi_high</th>\n",
       "      <th>visibility_mi_low</th>\n",
       "      <th>wind_gust_mph_high</th>\n",
       "      <th>wind_mph_avg</th>\n",
       "      <th>wind_mph_high</th>\n",
       "    </tr>\n",
       "    <tr>\n",
       "      <th>date</th>\n",
       "      <th></th>\n",
       "      <th></th>\n",
       "      <th></th>\n",
       "      <th></th>\n",
       "      <th></th>\n",
       "      <th></th>\n",
       "      <th></th>\n",
       "      <th></th>\n",
       "      <th></th>\n",
       "      <th></th>\n",
       "      <th></th>\n",
       "      <th></th>\n",
       "      <th></th>\n",
       "      <th></th>\n",
       "      <th></th>\n",
       "      <th></th>\n",
       "      <th></th>\n",
       "      <th></th>\n",
       "      <th></th>\n",
       "      <th></th>\n",
       "    </tr>\n",
       "  </thead>\n",
       "  <tbody>\n",
       "    <tr>\n",
       "      <th>2012-1-1</th>\n",
       "      <td>44.0</td>\n",
       "      <td>50.0</td>\n",
       "      <td>34.0</td>\n",
       "      <td>Fog</td>\n",
       "      <td>80.0</td>\n",
       "      <td>100.0</td>\n",
       "      <td>25.0</td>\n",
       "      <td>0.00</td>\n",
       "      <td>30.15</td>\n",
       "      <td>30.23</td>\n",
       "      <td>30.08</td>\n",
       "      <td>56.0</td>\n",
       "      <td>73.0</td>\n",
       "      <td>39.0</td>\n",
       "      <td>6.0</td>\n",
       "      <td>10.0</td>\n",
       "      <td>0.0</td>\n",
       "      <td>0.0</td>\n",
       "      <td>1.0</td>\n",
       "      <td>8.0</td>\n",
       "    </tr>\n",
       "    <tr>\n",
       "      <th>2012-1-2</th>\n",
       "      <td>47.0</td>\n",
       "      <td>52.0</td>\n",
       "      <td>43.0</td>\n",
       "      <td>Fog</td>\n",
       "      <td>93.0</td>\n",
       "      <td>100.0</td>\n",
       "      <td>63.0</td>\n",
       "      <td>0.00</td>\n",
       "      <td>30.23</td>\n",
       "      <td>30.30</td>\n",
       "      <td>30.19</td>\n",
       "      <td>52.0</td>\n",
       "      <td>63.0</td>\n",
       "      <td>42.0</td>\n",
       "      <td>4.0</td>\n",
       "      <td>10.0</td>\n",
       "      <td>0.0</td>\n",
       "      <td>0.0</td>\n",
       "      <td>3.0</td>\n",
       "      <td>14.0</td>\n",
       "    </tr>\n",
       "    <tr>\n",
       "      <th>2012-1-3</th>\n",
       "      <td>43.0</td>\n",
       "      <td>50.0</td>\n",
       "      <td>37.0</td>\n",
       "      <td>Fog</td>\n",
       "      <td>85.0</td>\n",
       "      <td>100.0</td>\n",
       "      <td>32.0</td>\n",
       "      <td>0.01</td>\n",
       "      <td>30.24</td>\n",
       "      <td>30.28</td>\n",
       "      <td>30.17</td>\n",
       "      <td>58.0</td>\n",
       "      <td>77.0</td>\n",
       "      <td>39.0</td>\n",
       "      <td>6.0</td>\n",
       "      <td>10.0</td>\n",
       "      <td>0.0</td>\n",
       "      <td>0.0</td>\n",
       "      <td>2.0</td>\n",
       "      <td>10.0</td>\n",
       "    </tr>\n",
       "    <tr>\n",
       "      <th>2012-1-4</th>\n",
       "      <td>42.0</td>\n",
       "      <td>47.0</td>\n",
       "      <td>37.0</td>\n",
       "      <td></td>\n",
       "      <td>69.0</td>\n",
       "      <td>96.0</td>\n",
       "      <td>33.0</td>\n",
       "      <td>0.00</td>\n",
       "      <td>30.24</td>\n",
       "      <td>30.30</td>\n",
       "      <td>30.20</td>\n",
       "      <td>56.0</td>\n",
       "      <td>73.0</td>\n",
       "      <td>39.0</td>\n",
       "      <td>10.0</td>\n",
       "      <td>10.0</td>\n",
       "      <td>8.0</td>\n",
       "      <td>0.0</td>\n",
       "      <td>1.0</td>\n",
       "      <td>9.0</td>\n",
       "    </tr>\n",
       "    <tr>\n",
       "      <th>2012-1-5</th>\n",
       "      <td>42.0</td>\n",
       "      <td>51.0</td>\n",
       "      <td>36.0</td>\n",
       "      <td></td>\n",
       "      <td>66.0</td>\n",
       "      <td>93.0</td>\n",
       "      <td>23.0</td>\n",
       "      <td>0.00</td>\n",
       "      <td>30.15</td>\n",
       "      <td>30.22</td>\n",
       "      <td>30.09</td>\n",
       "      <td>60.0</td>\n",
       "      <td>78.0</td>\n",
       "      <td>42.0</td>\n",
       "      <td>10.0</td>\n",
       "      <td>10.0</td>\n",
       "      <td>7.0</td>\n",
       "      <td>22.0</td>\n",
       "      <td>4.0</td>\n",
       "      <td>18.0</td>\n",
       "    </tr>\n",
       "  </tbody>\n",
       "</table>\n",
       "</div>"
      ],
      "text/plain": [
       "          dew_point_f_avg  dew_point_f_high  dew_point_f_low events  \\\n",
       "date                                                                  \n",
       "2012-1-1             44.0              50.0             34.0    Fog   \n",
       "2012-1-2             47.0              52.0             43.0    Fog   \n",
       "2012-1-3             43.0              50.0             37.0    Fog   \n",
       "2012-1-4             42.0              47.0             37.0          \n",
       "2012-1-5             42.0              51.0             36.0          \n",
       "\n",
       "          humidity_%_avg  humidity_%_high  humidity_%_low  precip_in_sum  \\\n",
       "date                                                                       \n",
       "2012-1-1            80.0            100.0            25.0           0.00   \n",
       "2012-1-2            93.0            100.0            63.0           0.00   \n",
       "2012-1-3            85.0            100.0            32.0           0.01   \n",
       "2012-1-4            69.0             96.0            33.0           0.00   \n",
       "2012-1-5            66.0             93.0            23.0           0.00   \n",
       "\n",
       "          sea_level_press_in_avg  sea_level_press_in_high  \\\n",
       "date                                                        \n",
       "2012-1-1                   30.15                    30.23   \n",
       "2012-1-2                   30.23                    30.30   \n",
       "2012-1-3                   30.24                    30.28   \n",
       "2012-1-4                   30.24                    30.30   \n",
       "2012-1-5                   30.15                    30.22   \n",
       "\n",
       "          sea_level_press_in_low  temp_f_avg  temp_f_high  temp_f_low  \\\n",
       "date                                                                    \n",
       "2012-1-1                   30.08        56.0         73.0        39.0   \n",
       "2012-1-2                   30.19        52.0         63.0        42.0   \n",
       "2012-1-3                   30.17        58.0         77.0        39.0   \n",
       "2012-1-4                   30.20        56.0         73.0        39.0   \n",
       "2012-1-5                   30.09        60.0         78.0        42.0   \n",
       "\n",
       "          visibility_mi_avg  visibility_mi_high  visibility_mi_low  \\\n",
       "date                                                                 \n",
       "2012-1-1                6.0                10.0                0.0   \n",
       "2012-1-2                4.0                10.0                0.0   \n",
       "2012-1-3                6.0                10.0                0.0   \n",
       "2012-1-4               10.0                10.0                8.0   \n",
       "2012-1-5               10.0                10.0                7.0   \n",
       "\n",
       "          wind_gust_mph_high  wind_mph_avg  wind_mph_high  \n",
       "date                                                       \n",
       "2012-1-1                 0.0           1.0            8.0  \n",
       "2012-1-2                 0.0           3.0           14.0  \n",
       "2012-1-3                 0.0           2.0           10.0  \n",
       "2012-1-4                 0.0           1.0            9.0  \n",
       "2012-1-5                22.0           4.0           18.0  "
      ]
     },
     "execution_count": 14,
     "metadata": {},
     "output_type": "execute_result"
    }
   ],
   "source": [
    "# load dataset\n",
    "data = pd.read_csv('data/slo_weather_history.csv', index_col=0)\n",
    "\n",
    "# display first few rows\n",
    "data.head()"
   ]
  },
  {
   "cell_type": "markdown",
   "metadata": {},
   "source": [
    "### Develop Model\n",
    "\n",
    "The data doens't have a strong seasonal component, but we decided to neutralize it and make it stationary by taking the seasonal difference. That is, we can take the observation for a day and subtract the observation from the same day one year ago.\n",
    "\n",
    "We can invert this operation by adding the value of the observation one year ago. We will need to do this to any forecasts made by a model trained on the seasonally adjusted data."
   ]
  },
  {
   "cell_type": "code",
   "execution_count": 16,
   "metadata": {
    "collapsed": true
   },
   "outputs": [],
   "source": [
    "# create a differenced series\n",
    "def difference(data, interval=1):\n",
    "    diff = list()\n",
    "    for i in range(interval, len(data)):\n",
    "        value = data[i] - data[i - interval]\n",
    "        diff.append(value)\n",
    "    return np.array(diff)"
   ]
  },
  {
   "cell_type": "code",
   "execution_count": 17,
   "metadata": {
    "collapsed": true
   },
   "outputs": [],
   "source": [
    "# invert differenced value\n",
    "def inverse_difference(history, yhat, interval=1):\n",
    "    return yhat + history[-interval]"
   ]
  },
  {
   "cell_type": "code",
   "execution_count": 19,
   "metadata": {
    "collapsed": false
   },
   "outputs": [],
   "source": [
    "# seasonal difference\n",
    "X = data['temp_f_low'].values\n",
    "days_in_year = 365\n",
    "differenced = difference(X, days_in_year)"
   ]
  },
  {
   "cell_type": "markdown",
   "metadata": {},
   "source": [
    "The ARIMA model for time series analysis and forecasting can be tricky to configure. There are 3 parameters that require estimation by iterative trial and error from reviewing diagnostic plots and using 40-year-old heuristic rules.\n",
    "\n",
    "We can automate the process of evaluating a large number of hyperparameters for the ARIMA model by using a grid search procedure."
   ]
  },
  {
   "cell_type": "code",
   "execution_count": 6,
   "metadata": {
    "collapsed": true
   },
   "outputs": [],
   "source": [
    "# evaluate an ARIMA model for a given order (p,d,q)\n",
    "def evaluate_arima_model(X, arima_order):\n",
    "    # prepare training dataset\n",
    "    train_size = int(len(X) * 0.66)\n",
    "    train, test = X[0:train_size], X[train_size:]\n",
    "    history = [x for x in train]\n",
    "    \n",
    "    # make predictions\n",
    "    predictions = []\n",
    "    \n",
    "    for t in range(len(test)):\n",
    "        model = ARIMA(history, order=arima_order)\n",
    "        model_fit = model.fit(disp=0)\n",
    "        yhat = model_fit.forecast()[0]\n",
    "        \n",
    "        # invert the differenced forecast to something usable\n",
    "        yhat = inverse_difference(history, yhat, 365)\n",
    "        \n",
    "        predictions.append(yhat)\n",
    "        history.append(test[t])\n",
    "    \n",
    "    # calculate out of sample error\n",
    "    error = np.sqrt(mean_squared_error(test, predictions))\n",
    "    \n",
    "    return error"
   ]
  },
  {
   "cell_type": "code",
   "execution_count": 7,
   "metadata": {
    "collapsed": true
   },
   "outputs": [],
   "source": [
    "# evaluate combinations of p, d and q values for an ARIMA model\n",
    "def evaluate_models(dataset, p_values, d_values, q_values):\n",
    "    dataset = dataset.astype('float32')\n",
    "    best_score, best_cfg = float(\"inf\"), None\n",
    "    for p in p_values:\n",
    "        for d in d_values:\n",
    "            for q in q_values:\n",
    "                order = (p,d,q)\n",
    "                try:\n",
    "                    mse = evaluate_arima_model(dataset, order)\n",
    "                    if mse < best_score:\n",
    "                        best_score, best_cfg = mse, order\n",
    "                    print('ARIMA%s RMSE=%.3f' % (order,mse))\n",
    "                except:\n",
    "                    continue\n",
    "    print('Best ARIMA%s RMSE=%.3f' % (best_cfg, best_score))"
   ]
  },
  {
   "cell_type": "code",
   "execution_count": null,
   "metadata": {
    "collapsed": false,
    "scrolled": true
   },
   "outputs": [
    {
     "name": "stdout",
     "output_type": "stream",
     "text": [
      "ARIMA(0, 0, 0) MSE=12.272\n",
      "ARIMA(0, 0, 1) MSE=11.078\n",
      "ARIMA(0, 0, 2) MSE=10.728\n",
      "ARIMA(0, 1, 0) MSE=9.983\n",
      "ARIMA(0, 1, 1) MSE=9.975\n"
     ]
    }
   ],
   "source": [
    "# evaluate parameters\n",
    "p_values = [0, 1, 2, 4, 6, 8, 10]\n",
    "d_values = range(0, 3)\n",
    "q_values = range(0, 3)\n",
    "\n",
    "warnings.filterwarnings(\"ignore\")\n",
    "\n",
    "evaluate_models(differenced, p_values, d_values, q_values)"
   ]
  },
  {
   "cell_type": "code",
   "execution_count": null,
   "metadata": {
    "collapsed": true
   },
   "outputs": [],
   "source": []
  }
 ],
 "metadata": {
  "kernelspec": {
   "display_name": "Python 3",
   "language": "python",
   "name": "python3"
  },
  "language_info": {
   "codemirror_mode": {
    "name": "ipython",
    "version": 3
   },
   "file_extension": ".py",
   "mimetype": "text/x-python",
   "name": "python",
   "nbconvert_exporter": "python",
   "pygments_lexer": "ipython3",
   "version": "3.5.2"
  }
 },
 "nbformat": 4,
 "nbformat_minor": 2
}
