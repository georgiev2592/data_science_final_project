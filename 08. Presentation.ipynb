{
 "cells": [
  {
   "cell_type": "markdown",
   "metadata": {},
   "source": [
    "# Presentation\n",
    "\n",
    "In this notebook, we are making a few graphs that will help us understand the data."
   ]
  },
  {
   "cell_type": "code",
   "execution_count": 1,
   "metadata": {
    "collapsed": false
   },
   "outputs": [
    {
     "data": {
      "text/html": [
       "<script>requirejs.config({paths: { 'plotly': ['https://cdn.plot.ly/plotly-latest.min']},});if(!window.Plotly) {{require(['plotly'],function(plotly) {window.Plotly=plotly;});}}</script>"
      ],
      "text/vnd.plotly.v1+html": [
       "<script>requirejs.config({paths: { 'plotly': ['https://cdn.plot.ly/plotly-latest.min']},});if(!window.Plotly) {{require(['plotly'],function(plotly) {window.Plotly=plotly;});}}</script>"
      ]
     },
     "metadata": {},
     "output_type": "display_data"
    }
   ],
   "source": [
    "import pandas as pd\n",
    "import sys\n",
    "\n",
    "%matplotlib inline\n",
    "\n",
    "sys.path.append('./src/')\n",
    "from plots import *"
   ]
  },
  {
   "cell_type": "code",
   "execution_count": 2,
   "metadata": {
    "collapsed": false
   },
   "outputs": [
    {
     "data": {
      "text/html": [
       "<div>\n",
       "<table border=\"1\" class=\"dataframe\">\n",
       "  <thead>\n",
       "    <tr style=\"text-align: right;\">\n",
       "      <th></th>\n",
       "      <th>date</th>\n",
       "      <th>dew_point_f_avg</th>\n",
       "      <th>dew_point_f_high</th>\n",
       "      <th>dew_point_f_low</th>\n",
       "      <th>events</th>\n",
       "      <th>humidity_%_avg</th>\n",
       "      <th>humidity_%_high</th>\n",
       "      <th>humidity_%_low</th>\n",
       "      <th>precip_in_sum</th>\n",
       "      <th>sea_level_press_in_avg</th>\n",
       "      <th>...</th>\n",
       "      <th>sea_level_press_in_low</th>\n",
       "      <th>temp_f_avg</th>\n",
       "      <th>temp_f_high</th>\n",
       "      <th>temp_f_low</th>\n",
       "      <th>visibility_mi_avg</th>\n",
       "      <th>visibility_mi_high</th>\n",
       "      <th>visibility_mi_low</th>\n",
       "      <th>wind_gust_mph_high</th>\n",
       "      <th>wind_mph_avg</th>\n",
       "      <th>wind_mph_high</th>\n",
       "    </tr>\n",
       "  </thead>\n",
       "  <tbody>\n",
       "    <tr>\n",
       "      <th>0</th>\n",
       "      <td>2012-1-1</td>\n",
       "      <td>44.0</td>\n",
       "      <td>50.0</td>\n",
       "      <td>34.0</td>\n",
       "      <td>Fog</td>\n",
       "      <td>80.0</td>\n",
       "      <td>100.0</td>\n",
       "      <td>25.0</td>\n",
       "      <td>0.00</td>\n",
       "      <td>30.15</td>\n",
       "      <td>...</td>\n",
       "      <td>30.08</td>\n",
       "      <td>56.0</td>\n",
       "      <td>73.0</td>\n",
       "      <td>39.0</td>\n",
       "      <td>6.0</td>\n",
       "      <td>10.0</td>\n",
       "      <td>0.0</td>\n",
       "      <td>0.0</td>\n",
       "      <td>1.0</td>\n",
       "      <td>8.0</td>\n",
       "    </tr>\n",
       "    <tr>\n",
       "      <th>1</th>\n",
       "      <td>2012-1-2</td>\n",
       "      <td>47.0</td>\n",
       "      <td>52.0</td>\n",
       "      <td>43.0</td>\n",
       "      <td>Fog</td>\n",
       "      <td>93.0</td>\n",
       "      <td>100.0</td>\n",
       "      <td>63.0</td>\n",
       "      <td>0.00</td>\n",
       "      <td>30.23</td>\n",
       "      <td>...</td>\n",
       "      <td>30.19</td>\n",
       "      <td>52.0</td>\n",
       "      <td>63.0</td>\n",
       "      <td>42.0</td>\n",
       "      <td>4.0</td>\n",
       "      <td>10.0</td>\n",
       "      <td>0.0</td>\n",
       "      <td>0.0</td>\n",
       "      <td>3.0</td>\n",
       "      <td>14.0</td>\n",
       "    </tr>\n",
       "    <tr>\n",
       "      <th>2</th>\n",
       "      <td>2012-1-3</td>\n",
       "      <td>43.0</td>\n",
       "      <td>50.0</td>\n",
       "      <td>37.0</td>\n",
       "      <td>Fog</td>\n",
       "      <td>85.0</td>\n",
       "      <td>100.0</td>\n",
       "      <td>32.0</td>\n",
       "      <td>0.01</td>\n",
       "      <td>30.24</td>\n",
       "      <td>...</td>\n",
       "      <td>30.17</td>\n",
       "      <td>58.0</td>\n",
       "      <td>77.0</td>\n",
       "      <td>39.0</td>\n",
       "      <td>6.0</td>\n",
       "      <td>10.0</td>\n",
       "      <td>0.0</td>\n",
       "      <td>0.0</td>\n",
       "      <td>2.0</td>\n",
       "      <td>10.0</td>\n",
       "    </tr>\n",
       "    <tr>\n",
       "      <th>3</th>\n",
       "      <td>2012-1-4</td>\n",
       "      <td>42.0</td>\n",
       "      <td>47.0</td>\n",
       "      <td>37.0</td>\n",
       "      <td></td>\n",
       "      <td>69.0</td>\n",
       "      <td>96.0</td>\n",
       "      <td>33.0</td>\n",
       "      <td>0.00</td>\n",
       "      <td>30.24</td>\n",
       "      <td>...</td>\n",
       "      <td>30.20</td>\n",
       "      <td>56.0</td>\n",
       "      <td>73.0</td>\n",
       "      <td>39.0</td>\n",
       "      <td>10.0</td>\n",
       "      <td>10.0</td>\n",
       "      <td>8.0</td>\n",
       "      <td>0.0</td>\n",
       "      <td>1.0</td>\n",
       "      <td>9.0</td>\n",
       "    </tr>\n",
       "    <tr>\n",
       "      <th>4</th>\n",
       "      <td>2012-1-5</td>\n",
       "      <td>42.0</td>\n",
       "      <td>51.0</td>\n",
       "      <td>36.0</td>\n",
       "      <td></td>\n",
       "      <td>66.0</td>\n",
       "      <td>93.0</td>\n",
       "      <td>23.0</td>\n",
       "      <td>0.00</td>\n",
       "      <td>30.15</td>\n",
       "      <td>...</td>\n",
       "      <td>30.09</td>\n",
       "      <td>60.0</td>\n",
       "      <td>78.0</td>\n",
       "      <td>42.0</td>\n",
       "      <td>10.0</td>\n",
       "      <td>10.0</td>\n",
       "      <td>7.0</td>\n",
       "      <td>22.0</td>\n",
       "      <td>4.0</td>\n",
       "      <td>18.0</td>\n",
       "    </tr>\n",
       "  </tbody>\n",
       "</table>\n",
       "<p>5 rows × 21 columns</p>\n",
       "</div>"
      ],
      "text/plain": [
       "       date  dew_point_f_avg  dew_point_f_high  dew_point_f_low events  \\\n",
       "0  2012-1-1             44.0              50.0             34.0    Fog   \n",
       "1  2012-1-2             47.0              52.0             43.0    Fog   \n",
       "2  2012-1-3             43.0              50.0             37.0    Fog   \n",
       "3  2012-1-4             42.0              47.0             37.0          \n",
       "4  2012-1-5             42.0              51.0             36.0          \n",
       "\n",
       "   humidity_%_avg  humidity_%_high  humidity_%_low  precip_in_sum  \\\n",
       "0            80.0            100.0            25.0           0.00   \n",
       "1            93.0            100.0            63.0           0.00   \n",
       "2            85.0            100.0            32.0           0.01   \n",
       "3            69.0             96.0            33.0           0.00   \n",
       "4            66.0             93.0            23.0           0.00   \n",
       "\n",
       "   sea_level_press_in_avg      ...        sea_level_press_in_low  temp_f_avg  \\\n",
       "0                   30.15      ...                         30.08        56.0   \n",
       "1                   30.23      ...                         30.19        52.0   \n",
       "2                   30.24      ...                         30.17        58.0   \n",
       "3                   30.24      ...                         30.20        56.0   \n",
       "4                   30.15      ...                         30.09        60.0   \n",
       "\n",
       "   temp_f_high  temp_f_low  visibility_mi_avg  visibility_mi_high  \\\n",
       "0         73.0        39.0                6.0                10.0   \n",
       "1         63.0        42.0                4.0                10.0   \n",
       "2         77.0        39.0                6.0                10.0   \n",
       "3         73.0        39.0               10.0                10.0   \n",
       "4         78.0        42.0               10.0                10.0   \n",
       "\n",
       "   visibility_mi_low  wind_gust_mph_high  wind_mph_avg  wind_mph_high  \n",
       "0                0.0                 0.0           1.0            8.0  \n",
       "1                0.0                 0.0           3.0           14.0  \n",
       "2                0.0                 0.0           2.0           10.0  \n",
       "3                8.0                 0.0           1.0            9.0  \n",
       "4                7.0                22.0           4.0           18.0  \n",
       "\n",
       "[5 rows x 21 columns]"
      ]
     },
     "execution_count": 2,
     "metadata": {},
     "output_type": "execute_result"
    }
   ],
   "source": [
    "data = pd.read_csv(\"data/slo_weather_history.csv\")\n",
    "data.head()"
   ]
  },
  {
   "cell_type": "code",
   "execution_count": 3,
   "metadata": {
    "collapsed": false
   },
   "outputs": [],
   "source": [
    "# plot_all_data(data)"
   ]
  },
  {
   "cell_type": "code",
   "execution_count": 4,
   "metadata": {
    "collapsed": false
   },
   "outputs": [],
   "source": [
    "# simple_time_series_forecast_persistence_rmse(data)"
   ]
  },
  {
   "cell_type": "code",
   "execution_count": 5,
   "metadata": {
    "collapsed": false,
    "scrolled": false
   },
   "outputs": [],
   "source": [
    "# simple_time_series_forecast_expanding_window_rmse(data)"
   ]
  },
  {
   "cell_type": "code",
   "execution_count": 6,
   "metadata": {
    "collapsed": false
   },
   "outputs": [],
   "source": [
    "# simple_time_series_forecast_rolling_window_rmse(data)"
   ]
  },
  {
   "cell_type": "code",
   "execution_count": 7,
   "metadata": {
    "collapsed": false,
    "scrolled": false
   },
   "outputs": [],
   "source": [
    "# out_of_sample_forecast_arima(data)"
   ]
  },
  {
   "cell_type": "code",
   "execution_count": 8,
   "metadata": {
    "collapsed": false
   },
   "outputs": [
    {
     "name": "stdout",
     "output_type": "stream",
     "text": [
      "Day 1 -- Forecast: 52.116721, Actual: 57.000000\n",
      "Day 2 -- Forecast: 51.344425, Actual: 54.000000\n",
      "Day 3 -- Forecast: 51.397121, Actual: 48.000000\n",
      "Day 4 -- Forecast: 51.601338, Actual: 53.000000\n",
      "Day 5 -- Forecast: 51.568685, Actual: 53.000000\n",
      "Day 6 -- Forecast: 51.614797, Actual: 52.000000\n",
      "Day 7 -- Forecast: 51.461988, Actual: 51.000000\n",
      "\n",
      "Test RMSE: 2.586\n"
     ]
    },
    {
     "data": {
      "application/vnd.plotly.v1+json": {
       "data": [
        {
         "name": "Test",
         "type": "scatter",
         "x": [
          1971,
          1972,
          1973,
          1974,
          1975,
          1976,
          1977
         ],
         "y": [
          57,
          54,
          48,
          53,
          53,
          52,
          51
         ]
        },
        {
         "name": "Forecast",
         "type": "scatter",
         "x": [
          1971,
          1972,
          1973,
          1974,
          1975,
          1976,
          1977
         ],
         "y": [
          52.11672067926562,
          51.344424712730735,
          51.39712068467603,
          51.601338479955764,
          51.5686849592014,
          51.61479721422049,
          51.4619884087657
         ]
        }
       ],
       "layout": {
        "title": "Predictions From Fixed AR Model"
       }
      },
      "text/html": [
       "<div id=\"eb0250e3-d641-41c4-b001-38f06d077e23\" style=\"height: 525px; width: 100%;\" class=\"plotly-graph-div\"></div><script type=\"text/javascript\">require([\"plotly\"], function(Plotly) { window.PLOTLYENV=window.PLOTLYENV || {};window.PLOTLYENV.BASE_URL=\"https://plot.ly\";Plotly.newPlot(\"eb0250e3-d641-41c4-b001-38f06d077e23\", [{\"name\": \"Test\", \"type\": \"scatter\", \"x\": [1971, 1972, 1973, 1974, 1975, 1976, 1977], \"y\": [57.0, 54.0, 48.0, 53.0, 53.0, 52.0, 51.0]}, {\"name\": \"Forecast\", \"type\": \"scatter\", \"x\": [1971, 1972, 1973, 1974, 1975, 1976, 1977], \"y\": [52.11672067926562, 51.344424712730735, 51.39712068467603, 51.601338479955764, 51.5686849592014, 51.61479721422049, 51.4619884087657]}], {\"title\": \"Predictions From Fixed AR Model\"}, {\"linkText\": \"Export to plot.ly\", \"showLink\": true})});</script>"
      ],
      "text/vnd.plotly.v1+html": [
       "<div id=\"eb0250e3-d641-41c4-b001-38f06d077e23\" style=\"height: 525px; width: 100%;\" class=\"plotly-graph-div\"></div><script type=\"text/javascript\">require([\"plotly\"], function(Plotly) { window.PLOTLYENV=window.PLOTLYENV || {};window.PLOTLYENV.BASE_URL=\"https://plot.ly\";Plotly.newPlot(\"eb0250e3-d641-41c4-b001-38f06d077e23\", [{\"name\": \"Test\", \"type\": \"scatter\", \"x\": [1971, 1972, 1973, 1974, 1975, 1976, 1977], \"y\": [57.0, 54.0, 48.0, 53.0, 53.0, 52.0, 51.0]}, {\"name\": \"Forecast\", \"type\": \"scatter\", \"x\": [1971, 1972, 1973, 1974, 1975, 1976, 1977], \"y\": [52.11672067926562, 51.344424712730735, 51.39712068467603, 51.601338479955764, 51.5686849592014, 51.61479721422049, 51.4619884087657]}], {\"title\": \"Predictions From Fixed AR Model\"}, {\"linkText\": \"Export to plot.ly\", \"showLink\": true})});</script>"
      ]
     },
     "metadata": {},
     "output_type": "display_data"
    }
   ],
   "source": [
    "fixed_autoregression_forecast(data)"
   ]
  },
  {
   "cell_type": "code",
   "execution_count": 9,
   "metadata": {
    "collapsed": false
   },
   "outputs": [
    {
     "name": "stdout",
     "output_type": "stream",
     "text": [
      "Day 1 -- Forecast: 52.116721, Actual: 57.000000\n",
      "Day 2 -- Forecast: 54.648137, Actual: 54.000000\n",
      "Day 3 -- Forecast: 53.234415, Actual: 48.000000\n",
      "Day 4 -- Forecast: 49.439777, Actual: 53.000000\n",
      "Day 5 -- Forecast: 52.455022, Actual: 53.000000\n",
      "Day 6 -- Forecast: 52.781134, Actual: 52.000000\n",
      "Day 7 -- Forecast: 51.910638, Actual: 51.000000\n",
      "\n",
      "Test RMSE: 3.072\n"
     ]
    },
    {
     "data": {
      "application/vnd.plotly.v1+json": {
       "data": [
        {
         "name": "Test",
         "type": "scatter",
         "x": [
          1971,
          1972,
          1973,
          1974,
          1975,
          1976,
          1977
         ],
         "y": [
          57,
          54,
          48,
          53,
          53,
          52,
          51
         ]
        },
        {
         "name": "Forecast",
         "type": "scatter",
         "x": [
          1971,
          1972,
          1973,
          1974,
          1975,
          1976,
          1977
         ],
         "y": [
          52.11672067926561,
          54.64813740435042,
          53.23441450962734,
          49.43977738045622,
          52.455022445526566,
          52.78113383575321,
          51.91063827529865
         ]
        }
       ],
       "layout": {
        "title": "Predictions From Rolling AR Model"
       }
      },
      "text/html": [
       "<div id=\"0c585099-ff7e-4ce6-ade1-b3069eb7b0f9\" style=\"height: 525px; width: 100%;\" class=\"plotly-graph-div\"></div><script type=\"text/javascript\">require([\"plotly\"], function(Plotly) { window.PLOTLYENV=window.PLOTLYENV || {};window.PLOTLYENV.BASE_URL=\"https://plot.ly\";Plotly.newPlot(\"0c585099-ff7e-4ce6-ade1-b3069eb7b0f9\", [{\"name\": \"Test\", \"type\": \"scatter\", \"x\": [1971, 1972, 1973, 1974, 1975, 1976, 1977], \"y\": [57.0, 54.0, 48.0, 53.0, 53.0, 52.0, 51.0]}, {\"name\": \"Forecast\", \"type\": \"scatter\", \"x\": [1971, 1972, 1973, 1974, 1975, 1976, 1977], \"y\": [52.11672067926561, 54.64813740435042, 53.23441450962734, 49.43977738045622, 52.455022445526566, 52.78113383575321, 51.91063827529865]}], {\"title\": \"Predictions From Rolling AR Model\"}, {\"linkText\": \"Export to plot.ly\", \"showLink\": true})});</script>"
      ],
      "text/vnd.plotly.v1+html": [
       "<div id=\"0c585099-ff7e-4ce6-ade1-b3069eb7b0f9\" style=\"height: 525px; width: 100%;\" class=\"plotly-graph-div\"></div><script type=\"text/javascript\">require([\"plotly\"], function(Plotly) { window.PLOTLYENV=window.PLOTLYENV || {};window.PLOTLYENV.BASE_URL=\"https://plot.ly\";Plotly.newPlot(\"0c585099-ff7e-4ce6-ade1-b3069eb7b0f9\", [{\"name\": \"Test\", \"type\": \"scatter\", \"x\": [1971, 1972, 1973, 1974, 1975, 1976, 1977], \"y\": [57.0, 54.0, 48.0, 53.0, 53.0, 52.0, 51.0]}, {\"name\": \"Forecast\", \"type\": \"scatter\", \"x\": [1971, 1972, 1973, 1974, 1975, 1976, 1977], \"y\": [52.11672067926561, 54.64813740435042, 53.23441450962734, 49.43977738045622, 52.455022445526566, 52.78113383575321, 51.91063827529865]}], {\"title\": \"Predictions From Rolling AR Model\"}, {\"linkText\": \"Export to plot.ly\", \"showLink\": true})});</script>"
      ]
     },
     "metadata": {},
     "output_type": "display_data"
    }
   ],
   "source": [
    "rolling_autoregression_forecast(data)"
   ]
  }
 ],
 "metadata": {
  "kernelspec": {
   "display_name": "Python 3",
   "language": "python",
   "name": "python3"
  },
  "language_info": {
   "codemirror_mode": {
    "name": "ipython",
    "version": 3
   },
   "file_extension": ".py",
   "mimetype": "text/x-python",
   "name": "python",
   "nbconvert_exporter": "python",
   "pygments_lexer": "ipython3",
   "version": "3.5.2"
  }
 },
 "nbformat": 4,
 "nbformat_minor": 2
}
