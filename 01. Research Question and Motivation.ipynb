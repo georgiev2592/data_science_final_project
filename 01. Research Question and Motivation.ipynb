{
 "cells": [
  {
   "cell_type": "markdown",
   "metadata": {
    "collapsed": true
   },
   "source": [
    "# Research Question and Motivation\n",
    "\n",
    "In this project, we aim to create a model that can accurately predict San Luis Obispo weather, specifically temperature, for upcoming days. This model requires the use of time series data, as we continously use previously observed values to forecast future values. We are curious to see how much the temperature of prior day(s) contributes to predicting the temperature of a future day."
   ]
  }
 ],
 "metadata": {
  "kernelspec": {
   "display_name": "Python 3",
   "language": "python",
   "name": "python3"
  },
  "language_info": {
   "codemirror_mode": {
    "name": "ipython",
    "version": 3
   },
   "file_extension": ".py",
   "mimetype": "text/x-python",
   "name": "python",
   "nbconvert_exporter": "python",
   "pygments_lexer": "ipython3",
   "version": "3.5.2"
  }
 },
 "nbformat": 4,
 "nbformat_minor": 2
}
